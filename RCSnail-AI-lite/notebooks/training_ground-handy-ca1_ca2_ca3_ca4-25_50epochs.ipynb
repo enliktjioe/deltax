{
 "cells": [
  {
   "cell_type": "code",
   "execution_count": 1,
   "metadata": {},
   "outputs": [
    {
     "data": {
      "text/html": [
       "\n",
       "<style>\n",
       "    div#notebook-container    { width: 75%; }\n",
       "</style>\n"
      ],
      "text/plain": [
       "<IPython.core.display.HTML object>"
      ]
     },
     "metadata": {},
     "output_type": "display_data"
    }
   ],
   "source": [
    "from IPython.display import display, HTML\n",
    "\n",
    "display(HTML(data=\"\"\"\n",
    "<style>\n",
    "    div#notebook-container    { width: 75%; }\n",
    "</style>\n",
    "\"\"\"))"
   ]
  },
  {
   "cell_type": "code",
   "execution_count": 2,
   "metadata": {},
   "outputs": [
    {
     "name": "stdout",
     "output_type": "stream",
     "text": [
      "Nivida\\ cnn\\ standalone\\ validation\\ loss.png\r\n",
      "Training.png\r\n",
      "script\r\n",
      "training_ground-handy-ca1_ca2_ca3.ipynb\r\n",
      "training_ground-handy-ca1_ca2_ca3_ca4-25_50epochs.ipynb\r\n",
      "training_ground-handy-ca1_ca2_ca3_ca4.ipynb\r\n",
      "training_ground-handy.ipynb\r\n",
      "training_ground.ipynb\r\n"
     ]
    }
   ],
   "source": [
    "!dir"
   ]
  },
  {
   "cell_type": "code",
   "execution_count": 3,
   "metadata": {},
   "outputs": [
    {
     "name": "stdout",
     "output_type": "stream",
     "text": [
      "3.8.3\n"
     ]
    }
   ],
   "source": [
    "from platform import python_version\n",
    "\n",
    "print(python_version())"
   ]
  },
  {
   "cell_type": "code",
   "execution_count": 4,
   "metadata": {},
   "outputs": [],
   "source": [
    "%matplotlib inline\n",
    "import os\n",
    "import sys\n",
    "import gc\n",
    "import time\n",
    "from tqdm.notebook import tqdm\n",
    "\n",
    "import numpy as np\n",
    "import matplotlib.pyplot as plt\n",
    "from sklearn.model_selection import train_test_split\n",
    "from tensorflow.keras.utils import plot_model\n",
    "\n",
    "module_path_list = [os.path.abspath(os.path.join('../')), \n",
    "                    os.path.abspath(os.path.join('../../RCSnail-Commons'))]\n",
    "\n",
    "for module_path in module_path_list:\n",
    "    if module_path not in sys.path:\n",
    "        sys.path.append(module_path)\n",
    "\n",
    "from commons.configuration_manager import ConfigurationManager\n",
    "#from src.utilities.transformer import Transformer\n",
    "from src.learning.training.generator import Generator, GenFiles\n",
    "#from src.learning.models import create_standalone_nvidia_cnn, create_standalone_resnet\n",
    "                                "
   ]
  },
  {
   "cell_type": "code",
   "execution_count": 5,
   "metadata": {},
   "outputs": [],
   "source": [
    "def plot_stuff(title, plot_elem, figsize=(18, 10)):\n",
    "    fig=plt.figure(figsize=figsize)\n",
    "    plt.title(title)\n",
    "    plt.ylabel('Loss')\n",
    "    plt.xlabel('Epoch')\n",
    "    #x = np.arange(0, len(plot_elems[0]['data']), 1)\n",
    "    \n",
    "    #for plot_elem in plot_elems:\n",
    "    #    plt.errorbar(x, plot_elem['data'], yerr=plot_elem['error'], label=plot_elem['label'], alpha=plot_elem['alpha'], fmt='-o', capsize=5)\n",
    "    \n",
    "    plt.plot(list(range(1,len(plot_elem['data'])+1)), plot_elem['data'])\n",
    "    plt.grid(axis='both')\n",
    "    #plt.legend(loc='best', prop={'size': 15})\n",
    "    plt.show()\n",
    "    plt.savefig('./' + title + '.png')"
   ]
  },
  {
   "cell_type": "code",
   "execution_count": 6,
   "metadata": {},
   "outputs": [],
   "source": [
    "def create_standalone_nvidia_cnn(activation='linear', input_shape=(60, 180, 3), output_shape=1):\n",
    "    \"\"\"\n",
    "    Activation: linear, softmax.\n",
    "    Architecture is from nvidia paper mentioned in https://github.com/tanelp/self-driving-convnet/blob/master/train.py\n",
    "    \"\"\"\n",
    "    from tensorflow.keras.layers import Convolution2D\n",
    "    from tensorflow.keras.regularizers import l2\n",
    "    from tensorflow.keras.layers import Dense\n",
    "    from tensorflow.keras.layers import Flatten\n",
    "    from tensorflow.keras.layers import Input\n",
    "    from tensorflow.keras.models import Model\n",
    "    from tensorflow.keras.optimizers import Adam\n",
    "    from tensorflow.keras.losses import mean_squared_error, mean_absolute_error\n",
    "\n",
    "    inputs = Input(shape=input_shape)\n",
    "    conv_1 = Convolution2D(24, kernel_size=(5, 5), kernel_regularizer=l2(0.0005), strides=(2, 2), padding=\"same\", activation=\"elu\")(inputs)\n",
    "    conv_2 = Convolution2D(36, kernel_size=(5, 5), kernel_regularizer=l2(0.0005), strides=(2, 2), padding=\"same\", activation=\"elu\")(conv_1)\n",
    "    conv_3 = Convolution2D(48, kernel_size=(5, 5), kernel_regularizer=l2(0.0005), strides=(2, 2), padding=\"same\", activation=\"elu\")(conv_2)\n",
    "    conv_4 = Convolution2D(64, kernel_size=(3, 3), kernel_regularizer=l2(0.0005), padding=\"same\", activation=\"elu\")(conv_3)\n",
    "    conv_5 = Convolution2D(64, kernel_size=(3, 3), kernel_regularizer=l2(0.0005), padding=\"same\", activation=\"elu\")(conv_4)\n",
    "    flatten = Flatten()(conv_5)\n",
    "    dense_1 = Dense(1164, kernel_regularizer=l2(0.0005), activation=\"elu\")(flatten)\n",
    "    dense_2 = Dense(100, kernel_regularizer=l2(0.0005), activation=\"elu\")(dense_1)\n",
    "    dense_3 = Dense(50, kernel_regularizer=l2(0.0005), activation=\"elu\")(dense_2)\n",
    "    dense_4 = Dense(10, kernel_regularizer=l2(0.0005), activation=\"elu\")(dense_3)\n",
    "    out_dense = Dense(output_shape, activation=activation)(dense_4)\n",
    "\n",
    "    model = Model(inputs=inputs, outputs=out_dense)\n",
    "    optimizer = Adam(lr=3e-4)\n",
    "    model.compile(loss=mean_absolute_error, optimizer=optimizer)\n",
    "\n",
    "    return model"
   ]
  },
  {
   "cell_type": "markdown",
   "metadata": {},
   "source": [
    "# Handy Testing"
   ]
  },
  {
   "cell_type": "code",
   "execution_count": 7,
   "metadata": {},
   "outputs": [],
   "source": [
    "import json\n",
    "import numpy as np\n",
    "import os\n",
    "import matplotlib.pyplot as plt\n",
    "import skimage.io as io\n",
    "import skimage\n",
    "from skimage.transform import rescale, resize, downscale_local_mean\n",
    "\n",
    "import glob\n",
    "import random\n",
    "from PIL import Image\n",
    "import PIL\n",
    " "
   ]
  },
  {
   "cell_type": "code",
   "execution_count": 8,
   "metadata": {},
   "outputs": [
    {
     "name": "stdout",
     "output_type": "stream",
     "text": [
      "../cleaned_all/frame_0083594.npy\n",
      "154948\n",
      "154948\n"
     ]
    }
   ],
   "source": [
    "import glob\n",
    "\n",
    "# val_data_loc=\"preprocessed/cleaned_all\"\n",
    "# filenames = glob.glob(\"preprocessed/cleaned_all/*\")\n",
    "val_data_loc=\"../cleaned_all/\"\n",
    "filenames = glob.glob(\"../cleaned_all/*\")\n",
    "print(filenames[1])\n",
    "print(int(len(filenames)/2))\n",
    "nr_of_datapoints = int(len(filenames)/2) #label and image files\n",
    "print(nr_of_datapoints)\n",
    "\n",
    "\n",
    "MAEs=[]\n",
    "preds=[]\n",
    "labels=[]\n"
   ]
  },
  {
   "cell_type": "code",
   "execution_count": 9,
   "metadata": {},
   "outputs": [],
   "source": [
    "frames = []\n",
    "commands = []\n",
    "\n",
    "# for batch in range(53482,53482+nr_of_datapoints): # using the end of file. 32 batches of size batch of 32\n",
    "for batch in range(1,nr_of_datapoints): # using the end of file. 32 batches of size batch of 32\n",
    "    frames.append(np.load(val_data_loc + \"frame_\"+str(batch).zfill(7)+\".npy\"))\n",
    "    commands.append(np.load(val_data_loc + \"commands_\"+str(batch).zfill(7)+\".npy\"))"
   ]
  },
  {
   "cell_type": "code",
   "execution_count": 10,
   "metadata": {},
   "outputs": [
    {
     "data": {
      "text/plain": [
       "(154947, 60, 180, 3)"
      ]
     },
     "execution_count": 10,
     "metadata": {},
     "output_type": "execute_result"
    }
   ],
   "source": [
    "#frames = frames.reshape(1,60,180,3)\n",
    "frames = np.array(frames)\n",
    "frames.shape"
   ]
  },
  {
   "cell_type": "code",
   "execution_count": 11,
   "metadata": {},
   "outputs": [
    {
     "data": {
      "text/plain": [
       "(154947, 2)"
      ]
     },
     "execution_count": 11,
     "metadata": {},
     "output_type": "execute_result"
    }
   ],
   "source": [
    "#commands = commands.reshape(1, 2)\n",
    "commands = np.array(commands)\n",
    "commands.shape"
   ]
  },
  {
   "cell_type": "markdown",
   "metadata": {},
   "source": [
    "### Fitting with 25 Epochs"
   ]
  },
  {
   "cell_type": "code",
   "execution_count": 12,
   "metadata": {},
   "outputs": [
    {
     "name": "stdout",
     "output_type": "stream",
     "text": [
      "Model: \"functional_1\"\n",
      "_________________________________________________________________\n",
      "Layer (type)                 Output Shape              Param #   \n",
      "=================================================================\n",
      "input_1 (InputLayer)         [(None, 60, 180, 3)]      0         \n",
      "_________________________________________________________________\n",
      "conv2d (Conv2D)              (None, 30, 90, 24)        1824      \n",
      "_________________________________________________________________\n",
      "conv2d_1 (Conv2D)            (None, 15, 45, 36)        21636     \n",
      "_________________________________________________________________\n",
      "conv2d_2 (Conv2D)            (None, 8, 23, 48)         43248     \n",
      "_________________________________________________________________\n",
      "conv2d_3 (Conv2D)            (None, 8, 23, 64)         27712     \n",
      "_________________________________________________________________\n",
      "conv2d_4 (Conv2D)            (None, 8, 23, 64)         36928     \n",
      "_________________________________________________________________\n",
      "flatten (Flatten)            (None, 11776)             0         \n",
      "_________________________________________________________________\n",
      "dense (Dense)                (None, 1164)              13708428  \n",
      "_________________________________________________________________\n",
      "dense_1 (Dense)              (None, 100)               116500    \n",
      "_________________________________________________________________\n",
      "dense_2 (Dense)              (None, 50)                5050      \n",
      "_________________________________________________________________\n",
      "dense_3 (Dense)              (None, 10)                510       \n",
      "_________________________________________________________________\n",
      "dense_4 (Dense)              (None, 2)                 22        \n",
      "=================================================================\n",
      "Total params: 13,961,858\n",
      "Trainable params: 13,961,858\n",
      "Non-trainable params: 0\n",
      "_________________________________________________________________\n"
     ]
    }
   ],
   "source": [
    "model = create_standalone_nvidia_cnn(activation='linear', input_shape=(60, 180, 3), output_shape=2)\n",
    "model.summary()"
   ]
  },
  {
   "cell_type": "code",
   "execution_count": 13,
   "metadata": {
    "scrolled": true
   },
   "outputs": [
    {
     "name": "stdout",
     "output_type": "stream",
     "text": [
      "Epoch 1/25\n",
      "1937/1937 [==============================] - 365s 188ms/step - loss: 1.0058 - val_loss: 0.6316\n",
      "Epoch 2/25\n",
      "1937/1937 [==============================] - 365s 189ms/step - loss: 0.4885 - val_loss: 0.3523\n",
      "Epoch 3/25\n",
      "1937/1937 [==============================] - 367s 189ms/step - loss: 0.3007 - val_loss: 0.2366\n",
      "Epoch 4/25\n",
      "1937/1937 [==============================] - 367s 189ms/step - loss: 0.2149 - val_loss: 0.1779\n",
      "Epoch 5/25\n",
      "1937/1937 [==============================] - 366s 189ms/step - loss: 0.1778 - val_loss: 0.1613\n",
      "Epoch 6/25\n",
      "1937/1937 [==============================] - 365s 189ms/step - loss: 0.1605 - val_loss: 0.1447\n",
      "Epoch 7/25\n",
      "1937/1937 [==============================] - 366s 189ms/step - loss: 0.1513 - val_loss: 0.1386\n",
      "Epoch 8/25\n",
      "1937/1937 [==============================] - 366s 189ms/step - loss: 0.1471 - val_loss: 0.1332\n",
      "Epoch 9/25\n",
      "1937/1937 [==============================] - 366s 189ms/step - loss: 0.1432 - val_loss: 0.1328\n",
      "Epoch 10/25\n",
      "1937/1937 [==============================] - 365s 188ms/step - loss: 0.1408 - val_loss: 0.1354\n",
      "Epoch 11/25\n",
      "1937/1937 [==============================] - 366s 189ms/step - loss: 0.1391 - val_loss: 0.1283\n",
      "Epoch 12/25\n",
      "1937/1937 [==============================] - 365s 189ms/step - loss: 0.1373 - val_loss: 0.1270\n",
      "Epoch 13/25\n",
      "1937/1937 [==============================] - 366s 189ms/step - loss: 0.1356 - val_loss: 0.1264\n",
      "Epoch 14/25\n",
      "1937/1937 [==============================] - 366s 189ms/step - loss: 0.1344 - val_loss: 0.1261\n",
      "Epoch 15/25\n",
      "1937/1937 [==============================] - 366s 189ms/step - loss: 0.1338 - val_loss: 0.1258\n",
      "Epoch 16/25\n",
      "1937/1937 [==============================] - 367s 189ms/step - loss: 0.1323 - val_loss: 0.1253\n",
      "Epoch 17/25\n",
      "1937/1937 [==============================] - 367s 189ms/step - loss: 0.1317 - val_loss: 0.1239\n",
      "Epoch 18/25\n",
      "1937/1937 [==============================] - 366s 189ms/step - loss: 0.1310 - val_loss: 0.1291\n",
      "Epoch 19/25\n",
      "1937/1937 [==============================] - 365s 189ms/step - loss: 0.1301 - val_loss: 0.1344\n",
      "Epoch 20/25\n",
      "1937/1937 [==============================] - 366s 189ms/step - loss: 0.1295 - val_loss: 0.1257\n",
      "Epoch 21/25\n",
      "1937/1937 [==============================] - 366s 189ms/step - loss: 0.1285 - val_loss: 0.1247\n",
      "Epoch 22/25\n",
      "1937/1937 [==============================] - 365s 189ms/step - loss: 0.1285 - val_loss: 0.1201\n",
      "Epoch 23/25\n",
      "1937/1937 [==============================] - 365s 189ms/step - loss: 0.1275 - val_loss: 0.1179\n",
      "Epoch 24/25\n",
      "1937/1937 [==============================] - 365s 189ms/step - loss: 0.1272 - val_loss: 0.1186\n",
      "Epoch 25/25\n",
      "1937/1937 [==============================] - 365s 188ms/step - loss: 0.1267 - val_loss: 0.1209\n",
      "[]\n",
      "Loss per epoch: [1.005786657333374, 0.4885210394859314, 0.30070263147354126, 0.21490415930747986, 0.17784732580184937, 0.16048988699913025, 0.15125678479671478, 0.14714375138282776, 0.14320334792137146, 0.14079412817955017, 0.13907192647457123, 0.1372915506362915, 0.13563412427902222, 0.13441160321235657, 0.13377882540225983, 0.13227751851081848, 0.13170167803764343, 0.13104437291622162, 0.13010646402835846, 0.1294603943824768, 0.12850190699100494, 0.12847667932510376, 0.1275363564491272, 0.1271771937608719, 0.12672510743141174]\n",
      "Validation loss per epoch: [0.6316397190093994, 0.35227158665657043, 0.23659703135490417, 0.17788924276828766, 0.16132840514183044, 0.1446753740310669, 0.13864755630493164, 0.1332198679447174, 0.13279351592063904, 0.13543206453323364, 0.12829375267028809, 0.12698809802532196, 0.12638358771800995, 0.1261308789253235, 0.1257925033569336, 0.12534312903881073, 0.12392742186784744, 0.12909403443336487, 0.13443954288959503, 0.1257123202085495, 0.12473315745592117, 0.12005911022424698, 0.11787658929824829, 0.11858492344617844, 0.12092545628547668]\n"
     ]
    },
    {
     "data": {
      "text/plain": [
       "1533"
      ]
     },
     "execution_count": 13,
     "metadata": {},
     "output_type": "execute_result"
    }
   ],
   "source": [
    "hist = model.fit(frames, commands, batch_size=64, epochs=25, validation_split=0.2)\n",
    "\n",
    "losses = []\n",
    "val_losses = []\n",
    "current_loss = hist.history['loss']\n",
    "current_val_loss = hist.history['val_loss'] \n",
    "\n",
    "losses.append(current_loss)\n",
    "print(val_losses)\n",
    "val_losses.append(current_val_loss)\n",
    "\n",
    "tqdm.write(\"Loss per epoch: {}\".format(current_loss))\n",
    "tqdm.write(\"Validation loss per epoch: {}\".format(current_val_loss))\n",
    "\n",
    "gc.collect()"
   ]
  },
  {
   "cell_type": "code",
   "execution_count": 14,
   "metadata": {},
   "outputs": [
    {
     "name": "stdout",
     "output_type": "stream",
     "text": [
      "[[0.6316397190093994, 0.35227158665657043, 0.23659703135490417, 0.17788924276828766, 0.16132840514183044, 0.1446753740310669, 0.13864755630493164, 0.1332198679447174, 0.13279351592063904, 0.13543206453323364, 0.12829375267028809, 0.12698809802532196, 0.12638358771800995, 0.1261308789253235, 0.1257925033569336, 0.12534312903881073, 0.12392742186784744, 0.12909403443336487, 0.13443954288959503, 0.1257123202085495, 0.12473315745592117, 0.12005911022424698, 0.11787658929824829, 0.11858492344617844, 0.12092545628547668]]\n",
      "[0.6316397190093994, 0.35227158665657043, 0.23659703135490417, 0.17788924276828766, 0.16132840514183044, 0.1446753740310669, 0.13864755630493164, 0.1332198679447174, 0.13279351592063904, 0.13543206453323364, 0.12829375267028809, 0.12698809802532196, 0.12638358771800995, 0.1261308789253235, 0.1257925033569336, 0.12534312903881073, 0.12392742186784744, 0.12909403443336487, 0.13443954288959503, 0.1257123202085495, 0.12473315745592117, 0.12005911022424698, 0.11787658929824829, 0.11858492344617844, 0.12092545628547668]\n"
     ]
    },
    {
     "data": {
      "image/png": "[encoded data removed]",
      "text/plain": [
       "<Figure size 720x432 with 1 Axes>"
      ]
     },
     "metadata": {
      "needs_background": "light"
     },
     "output_type": "display_data"
    },
    {
     "data": {
      "text/plain": [
       "<Figure size 432x288 with 0 Axes>"
      ]
     },
     "metadata": {},
     "output_type": "display_data"
    }
   ],
   "source": [
    "print(val_losses)\n",
    "print(hist.history['val_loss'] )\n",
    "loss_data = []\n",
    "val_loss_data = []\n",
    "\n",
    "\n",
    "val_loss_data = {'data': hist.history['val_loss'], 'label': 'Validation loss', 'alpha': 1.0}\n",
    "plot_stuff('Nivida cnn standalone validation loss', val_loss_data, figsize=(10, 6))"
   ]
  },
  {
   "cell_type": "code",
   "execution_count": 15,
   "metadata": {},
   "outputs": [
    {
     "data": {
      "image/png": "[encoded data removed]",
      "text/plain": [
       "<Figure size 720x432 with 1 Axes>"
      ]
     },
     "metadata": {
      "needs_background": "light"
     },
     "output_type": "display_data"
    },
    {
     "data": {
      "text/plain": [
       "<Figure size 432x288 with 0 Axes>"
      ]
     },
     "metadata": {},
     "output_type": "display_data"
    }
   ],
   "source": [
    "loss_data = {'data': losses[0], 'label': 'Loss', 'alpha': 1.0}\n",
    "plot_stuff('Training', loss_data, figsize=(10, 6))"
   ]
  },
  {
   "cell_type": "code",
   "execution_count": 16,
   "metadata": {},
   "outputs": [
    {
     "name": "stdout",
     "output_type": "stream",
     "text": [
      "sama\n"
     ]
    }
   ],
   "source": [
    "mem_frame = frames[10].reshape(1,60,180,3)\n",
    "mem_frame.shape\n",
    "mem_frame\n",
    "\n",
    "new_mem_frame = mem_frame\n",
    "\n",
    "if(new_mem_frame.all() == mem_frame.all()):\n",
    "    print(\"sama\")"
   ]
  },
  {
   "cell_type": "code",
   "execution_count": 17,
   "metadata": {},
   "outputs": [
    {
     "data": {
      "text/plain": [
       "array([[0.07971831, 0.43897474]], dtype=float32)"
      ]
     },
     "execution_count": 17,
     "metadata": {},
     "output_type": "execute_result"
    }
   ],
   "source": [
    "model.predict(mem_frame)"
   ]
  },
  {
   "cell_type": "code",
   "execution_count": 18,
   "metadata": {},
   "outputs": [
    {
     "name": "stdout",
     "output_type": "stream",
     "text": [
      "20210120_043317\n"
     ]
    }
   ],
   "source": [
    "from datetime import datetime\n",
    "\n",
    "# Get current timestamp | source: https://www.programiz.com/python-programming/datetime/current-datetime\n",
    "now = datetime.now().strftime(\"%Y%m%d_%H%M%S\")\n",
    "print(now)\n",
    "\n",
    "#plot_model(model, to_file=model_path + model_file_prefix + model_file_suffix.format(model_number, 'png'), show_shapes=True)\n",
    "model.save('../src/model_team_3_' + now + '_25epochs_ca1_ca2_ca3_ca4.h5')"
   ]
  },
  {
   "cell_type": "code",
   "execution_count": 19,
   "metadata": {},
   "outputs": [
    {
     "name": "stdout",
     "output_type": "stream",
     "text": [
      "309896\n",
      "1/1 [==============================] - 0s 590us/step - loss: 0.0265\n",
      "1/1 [==============================] - 0s 702us/step - loss: 0.0233\n",
      "1/1 [==============================] - 0s 697us/step - loss: 0.3497\n",
      "1/1 [==============================] - 0s 627us/step - loss: 0.1039\n",
      "1/1 [==============================] - 0s 692us/step - loss: 0.0631\n",
      "1/1 [==============================] - 0s 614us/step - loss: 0.0690\n",
      "1/1 [==============================] - 0s 838us/step - loss: 0.0756\n",
      "1/1 [==============================] - 0s 616us/step - loss: 0.0892\n",
      "1/1 [==============================] - 0s 611us/step - loss: 0.1053\n",
      "1/1 [==============================] - 0s 625us/step - loss: 0.0868\n",
      "1/1 [==============================] - 0s 640us/step - loss: 0.0422\n",
      "1/1 [==============================] - 0s 618us/step - loss: 0.0367\n",
      "1/1 [==============================] - 0s 643us/step - loss: 0.0323\n",
      "1/1 [==============================] - 0s 596us/step - loss: 0.0295\n",
      "1/1 [==============================] - 0s 619us/step - loss: 0.0328\n",
      "1/1 [==============================] - 0s 846us/step - loss: 0.0287\n",
      "1/1 [==============================] - 0s 593us/step - loss: 0.0302\n",
      "1/1 [==============================] - 0s 719us/step - loss: 0.0304\n",
      "1/1 [==============================] - 0s 619us/step - loss: 0.0450\n",
      "1/1 [==============================] - 0s 827us/step - loss: 0.0330\n",
      "1/1 [==============================] - 0s 612us/step - loss: 0.0327\n",
      "1/1 [==============================] - 0s 663us/step - loss: 0.0427\n",
      "1/1 [==============================] - 0s 675us/step - loss: 0.0492\n",
      "1/1 [==============================] - 0s 700us/step - loss: 0.2064\n",
      "1/1 [==============================] - 0s 700us/step - loss: 0.0764\n",
      "1/1 [==============================] - 0s 654us/step - loss: 0.0563\n",
      "1/1 [==============================] - 0s 616us/step - loss: 0.0394\n",
      "1/1 [==============================] - 0s 631us/step - loss: 0.0441\n",
      "1/1 [==============================] - 0s 576us/step - loss: 0.0379\n",
      "1/1 [==============================] - 0s 649us/step - loss: 0.0378\n",
      "1/1 [==============================] - 0s 621us/step - loss: 0.0366\n",
      "1/1 [==============================] - 0s 691us/step - loss: 0.0331\n",
      "0.06330698309466243\n"
     ]
    }
   ],
   "source": [
    "#todo load test set into memeory, evaluate\n",
    "import keras\n",
    "model = keras.models.load_model('../src/model_team_3_' + now + '_25epochs_ca1_ca2_ca3_ca4.h5')\n",
    "import glob\n",
    "\n",
    "val_data_loc=\"../cleaned_all\"\n",
    "filenames = glob.glob(\"../cleaned_all/*\")\n",
    "print(len(filenames))\n",
    "nr_of_datapoints = int(len(filenames)/2) #label and image files\n",
    "\n",
    "\n",
    "MAEs=[]\n",
    "preds=[]\n",
    "labels=[]\n",
    "\n",
    "# for batch in range(53482//32,(53482+nr_of_datapoints)//32):\n",
    "for batch in range(nr_of_datapoints//32-32,nr_of_datapoints//32):\n",
    "# for batch in range(nr_of_datapoints//32-32,nr_of_datapoints//32): # using the end of file. 32 batches of size batch of 32\n",
    "    frames=np.zeros((32,60,180,3))\n",
    "    commands = np.zeros((32,2))\n",
    "    for i in range(32):\n",
    "#         frames.append(np.load(val_data_loc + \"frame_\"+str(batch).zfill(7)+\".npy\"))\n",
    "#         commands.append(np.load(val_data_loc + \"commands_\"+str(batch).zfill(7)+\".npy\"))\n",
    "#         frames[i,:] = np.load(\"../cleaned_all/frame_\"+str(batch*32+i).zfill(7)+\".npy\")\n",
    "#         commands[i] = np.load(\"../cleaned_all/commands_\"+str(batch*32+i).zfill(7)+\".npy\")\n",
    "        frames[i,:] = np.load(\"../cleaned_all/frame_\"+str(batch).zfill(7)+\".npy\")\n",
    "        commands[i] = np.load(\"../cleaned_all/commands_\"+str(batch).zfill(7)+\".npy\")\n",
    "    MAEs.append(model.evaluate(frames,commands, batch_size=32))\n",
    "    pred = model.predict(frames)\n",
    "    preds.append(pred)\n",
    "    labels.append(commands)\n",
    "    \n",
    "print(np.mean(MAEs))"
   ]
  },
  {
   "cell_type": "code",
   "execution_count": 20,
   "metadata": {},
   "outputs": [
    {
     "name": "stdout",
     "output_type": "stream",
     "text": [
      "0.06330698309466243\n",
      "(32, 32) (32, 32)\n"
     ]
    },
    {
     "data": {
      "image/png": "[encoded data removed]",
      "text/plain": [
       "<Figure size 2304x576 with 1 Axes>"
      ]
     },
     "metadata": {
      "needs_background": "light"
     },
     "output_type": "display_data"
    },
    {
     "data": {
      "image/png": "[encoded data removed]",
      "text/plain": [
       "<Figure size 2304x576 with 1 Axes>"
      ]
     },
     "metadata": {
      "needs_background": "light"
     },
     "output_type": "display_data"
    },
    {
     "data": {
      "text/plain": [
       "<matplotlib.collections.PathCollection at 0x7f2cdd547fa0>"
      ]
     },
     "execution_count": 20,
     "metadata": {},
     "output_type": "execute_result"
    },
    {
     "data": {
      "image/png": "[encoded data removed]",
      "text/plain": [
       "<Figure size 432x288 with 1 Axes>"
      ]
     },
     "metadata": {
      "needs_background": "light"
     },
     "output_type": "display_data"
    }
   ],
   "source": [
    "print(np.mean(MAEs))\n",
    "p_steer=np.array(preds)[:,:,0]\n",
    "l_steer=np.array(labels)[:,:,0]\n",
    "p_throttle=np.array(preds)[:,:,1]\n",
    "l_throttle=np.array(labels)[:,:,1]\n",
    "\n",
    "print(p_steer.shape,l_steer.shape)\n",
    "p_steer=p_steer.flatten()\n",
    "l_steer=l_steer.flatten()\n",
    "p_throttle=p_throttle.flatten()\n",
    "l_throttle=l_throttle.flatten()\n",
    "\n",
    "\n",
    "plt.figure(figsize=(32,8))\n",
    "plt.plot(range(1000),l_steer[:1000],label=\"human steering\")\n",
    "plt.plot(range(1000),p_steer[:1000],label=\"predicted\")\n",
    "plt.legend()\n",
    "plt.show()\n",
    "\n",
    "\n",
    "plt.figure(figsize=(32,8))\n",
    "plt.plot(range(1000),l_throttle[:1000],label=\"human throttle\")\n",
    "plt.plot(range(1000),p_throttle[:1000],label=\"predicted\")\n",
    "plt.legend()\n",
    "plt.show()\n",
    "\n",
    "\n",
    "\n",
    "plt.scatter(l_steer,p_steer,s=0.001)"
   ]
  },
  {
   "cell_type": "markdown",
   "metadata": {},
   "source": [
    "### Fitting with 50 Epochs"
   ]
  },
  {
   "cell_type": "code",
   "execution_count": 21,
   "metadata": {},
   "outputs": [
    {
     "name": "stdout",
     "output_type": "stream",
     "text": [
      "Model: \"functional_3\"\n",
      "_________________________________________________________________\n",
      "Layer (type)                 Output Shape              Param #   \n",
      "=================================================================\n",
      "input_2 (InputLayer)         [(None, 60, 180, 3)]      0         \n",
      "_________________________________________________________________\n",
      "conv2d_5 (Conv2D)            (None, 30, 90, 24)        1824      \n",
      "_________________________________________________________________\n",
      "conv2d_6 (Conv2D)            (None, 15, 45, 36)        21636     \n",
      "_________________________________________________________________\n",
      "conv2d_7 (Conv2D)            (None, 8, 23, 48)         43248     \n",
      "_________________________________________________________________\n",
      "conv2d_8 (Conv2D)            (None, 8, 23, 64)         27712     \n",
      "_________________________________________________________________\n",
      "conv2d_9 (Conv2D)            (None, 8, 23, 64)         36928     \n",
      "_________________________________________________________________\n",
      "flatten_1 (Flatten)          (None, 11776)             0         \n",
      "_________________________________________________________________\n",
      "dense_5 (Dense)              (None, 1164)              13708428  \n",
      "_________________________________________________________________\n",
      "dense_6 (Dense)              (None, 100)               116500    \n",
      "_________________________________________________________________\n",
      "dense_7 (Dense)              (None, 50)                5050      \n",
      "_________________________________________________________________\n",
      "dense_8 (Dense)              (None, 10)                510       \n",
      "_________________________________________________________________\n",
      "dense_9 (Dense)              (None, 2)                 22        \n",
      "=================================================================\n",
      "Total params: 13,961,858\n",
      "Trainable params: 13,961,858\n",
      "Non-trainable params: 0\n",
      "_________________________________________________________________\n"
     ]
    }
   ],
   "source": [
    "model2 = create_standalone_nvidia_cnn(activation='linear', input_shape=(60, 180, 3), output_shape=2)\n",
    "model2.summary()"
   ]
  },
  {
   "cell_type": "code",
   "execution_count": 22,
   "metadata": {},
   "outputs": [
    {
     "name": "stdout",
     "output_type": "stream",
     "text": [
      "Epoch 1/50\n",
      "1/1 [==============================] - 0s 113ms/step - loss: 5.6014 - val_loss: 5.3945\n",
      "Epoch 2/50\n",
      "1/1 [==============================] - 0s 22ms/step - loss: 5.3945 - val_loss: 2.6264\n",
      "Epoch 3/50\n",
      "1/1 [==============================] - 0s 21ms/step - loss: 2.6264 - val_loss: 3.2648\n",
      "Epoch 4/50\n",
      "1/1 [==============================] - 0s 23ms/step - loss: 3.2648 - val_loss: 2.8299\n",
      "Epoch 5/50\n",
      "1/1 [==============================] - 0s 23ms/step - loss: 2.8299 - val_loss: 2.5420\n",
      "Epoch 6/50\n",
      "1/1 [==============================] - 0s 21ms/step - loss: 2.5420 - val_loss: 1.5521\n",
      "Epoch 7/50\n",
      "1/1 [==============================] - 0s 22ms/step - loss: 1.5521 - val_loss: 1.8302\n",
      "Epoch 8/50\n",
      "1/1 [==============================] - 0s 21ms/step - loss: 1.8302 - val_loss: 3.9462\n",
      "Epoch 9/50\n",
      "1/1 [==============================] - 0s 24ms/step - loss: 3.9462 - val_loss: 2.4090\n",
      "Epoch 10/50\n",
      "1/1 [==============================] - 0s 24ms/step - loss: 2.4090 - val_loss: 2.0830\n",
      "Epoch 11/50\n",
      "1/1 [==============================] - 0s 25ms/step - loss: 2.0830 - val_loss: 1.9947\n",
      "Epoch 12/50\n",
      "1/1 [==============================] - 0s 25ms/step - loss: 1.9947 - val_loss: 1.6676\n",
      "Epoch 13/50\n",
      "1/1 [==============================] - 0s 25ms/step - loss: 1.6676 - val_loss: 2.2821\n",
      "Epoch 14/50\n",
      "1/1 [==============================] - 0s 25ms/step - loss: 2.2821 - val_loss: 2.2448\n",
      "Epoch 15/50\n",
      "1/1 [==============================] - 0s 25ms/step - loss: 2.2448 - val_loss: 1.4461\n",
      "Epoch 16/50\n",
      "1/1 [==============================] - 0s 24ms/step - loss: 1.4461 - val_loss: 2.0004\n",
      "Epoch 17/50\n",
      "1/1 [==============================] - 0s 25ms/step - loss: 2.0004 - val_loss: 1.9289\n",
      "Epoch 18/50\n",
      "1/1 [==============================] - 0s 24ms/step - loss: 1.9289 - val_loss: 1.8269\n",
      "Epoch 19/50\n",
      "1/1 [==============================] - 0s 24ms/step - loss: 1.8269 - val_loss: 1.6773\n",
      "Epoch 20/50\n",
      "1/1 [==============================] - 0s 25ms/step - loss: 1.6773 - val_loss: 1.6032\n",
      "Epoch 21/50\n",
      "1/1 [==============================] - 0s 25ms/step - loss: 1.6032 - val_loss: 1.4597\n",
      "Epoch 22/50\n",
      "1/1 [==============================] - 0s 25ms/step - loss: 1.4597 - val_loss: 1.6729\n",
      "Epoch 23/50\n",
      "1/1 [==============================] - 0s 25ms/step - loss: 1.6729 - val_loss: 1.3861\n",
      "Epoch 24/50\n",
      "1/1 [==============================] - 0s 24ms/step - loss: 1.3861 - val_loss: 1.9018\n",
      "Epoch 25/50\n",
      "1/1 [==============================] - 0s 24ms/step - loss: 1.9018 - val_loss: 1.8658\n",
      "Epoch 26/50\n",
      "1/1 [==============================] - 0s 25ms/step - loss: 1.8658 - val_loss: 1.2457\n",
      "Epoch 27/50\n",
      "1/1 [==============================] - 0s 25ms/step - loss: 1.2457 - val_loss: 1.7569\n",
      "Epoch 28/50\n",
      "1/1 [==============================] - 0s 24ms/step - loss: 1.7569 - val_loss: 1.6376\n",
      "Epoch 29/50\n",
      "1/1 [==============================] - 0s 25ms/step - loss: 1.6376 - val_loss: 1.4522\n",
      "Epoch 30/50\n",
      "1/1 [==============================] - 0s 25ms/step - loss: 1.4522 - val_loss: 1.4344\n",
      "Epoch 31/50\n",
      "1/1 [==============================] - 0s 25ms/step - loss: 1.4344 - val_loss: 1.4635\n",
      "Epoch 32/50\n",
      "1/1 [==============================] - 0s 24ms/step - loss: 1.4635 - val_loss: 1.3661\n",
      "Epoch 33/50\n",
      "1/1 [==============================] - 0s 25ms/step - loss: 1.3661 - val_loss: 1.6470\n",
      "Epoch 34/50\n",
      "1/1 [==============================] - 0s 25ms/step - loss: 1.6470 - val_loss: 1.4545\n",
      "Epoch 35/50\n",
      "1/1 [==============================] - 0s 25ms/step - loss: 1.4545 - val_loss: 1.6098\n",
      "Epoch 36/50\n",
      "1/1 [==============================] - 0s 25ms/step - loss: 1.6098 - val_loss: 1.9350\n",
      "Epoch 37/50\n",
      "1/1 [==============================] - 0s 24ms/step - loss: 1.9350 - val_loss: 1.8235\n",
      "Epoch 38/50\n",
      "1/1 [==============================] - 0s 25ms/step - loss: 1.8235 - val_loss: 1.4451\n",
      "Epoch 39/50\n",
      "1/1 [==============================] - 0s 25ms/step - loss: 1.4451 - val_loss: 1.5352\n",
      "Epoch 40/50\n",
      "1/1 [==============================] - 0s 25ms/step - loss: 1.5352 - val_loss: 1.7158\n",
      "Epoch 41/50\n",
      "1/1 [==============================] - 0s 25ms/step - loss: 1.7158 - val_loss: 1.5566\n",
      "Epoch 42/50\n",
      "1/1 [==============================] - 0s 24ms/step - loss: 1.5566 - val_loss: 1.3638\n",
      "Epoch 43/50\n",
      "1/1 [==============================] - 0s 24ms/step - loss: 1.3638 - val_loss: 1.6014\n",
      "Epoch 44/50\n",
      "1/1 [==============================] - 0s 26ms/step - loss: 1.6014 - val_loss: 1.6177\n",
      "Epoch 45/50\n",
      "1/1 [==============================] - 0s 26ms/step - loss: 1.6177 - val_loss: 1.3463\n",
      "Epoch 46/50\n",
      "1/1 [==============================] - 0s 25ms/step - loss: 1.3463 - val_loss: 1.5266\n",
      "Epoch 47/50\n",
      "1/1 [==============================] - 0s 24ms/step - loss: 1.5266 - val_loss: 1.6963\n",
      "Epoch 48/50\n",
      "1/1 [==============================] - 0s 24ms/step - loss: 1.6963 - val_loss: 1.5753\n",
      "Epoch 49/50\n",
      "1/1 [==============================] - 0s 25ms/step - loss: 1.5753 - val_loss: 1.2428\n",
      "Epoch 50/50\n",
      "1/1 [==============================] - 0s 24ms/step - loss: 1.2428 - val_loss: 1.4128\n",
      "[]\n",
      "Loss per epoch: [5.601398468017578, 5.394482612609863, 2.626405715942383, 3.264828681945801, 2.8298580646514893, 2.5420045852661133, 1.5520554780960083, 1.8301756381988525, 3.9461734294891357, 2.4090206623077393, 2.082956552505493, 1.9947127103805542, 1.6676230430603027, 2.282109498977661, 2.244840145111084, 1.4460556507110596, 2.0003960132598877, 1.928931474685669, 1.826899766921997, 1.677262544631958, 1.6031705141067505, 1.4596848487854004, 1.6728919744491577, 1.3861311674118042, 1.9017653465270996, 1.8658320903778076, 1.2457349300384521, 1.7568546533584595, 1.6375775337219238, 1.4521886110305786, 1.4344035387039185, 1.4635381698608398, 1.3660529851913452, 1.647007942199707, 1.4544967412948608, 1.6098408699035645, 1.934990644454956, 1.8235033750534058, 1.4450902938842773, 1.535182237625122, 1.7158082723617554, 1.556627631187439, 1.3638287782669067, 1.6014381647109985, 1.6176881790161133, 1.3463283777236938, 1.5266480445861816, 1.6962614059448242, 1.575324296951294, 1.2428052425384521]\n",
      "Validation loss per epoch: [5.3944830894470215, 2.6264050006866455, 3.264829397201538, 2.8298580646514893, 2.5420050621032715, 1.5520552396774292, 1.8301748037338257, 3.9461724758148193, 2.4090209007263184, 2.082956552505493, 1.9947128295898438, 1.6676231622695923, 2.282109498977661, 2.244840145111084, 1.4460557699203491, 2.0003957748413086, 1.928931474685669, 1.8268991708755493, 1.6772624254226685, 1.603170394897461, 1.4596844911575317, 1.6728918552398682, 1.3861310482025146, 1.901764988899231, 1.865831971168518, 1.2457350492477417, 1.7568541765213013, 1.6375776529312134, 1.4521890878677368, 1.434403419494629, 1.4635382890701294, 1.3660527467727661, 1.6470085382461548, 1.4544963836669922, 1.609840750694275, 1.9349912405014038, 1.8235036134719849, 1.4450905323028564, 1.5351823568344116, 1.7158089876174927, 1.556627869606018, 1.3638288974761963, 1.6014384031295776, 1.6176882982254028, 1.3463281393051147, 1.5266482830047607, 1.6962611675262451, 1.5753238201141357, 1.2428053617477417, 1.412822961807251]\n"
     ]
    },
    {
     "data": {
      "text/plain": [
       "19683"
      ]
     },
     "execution_count": 22,
     "metadata": {},
     "output_type": "execute_result"
    }
   ],
   "source": [
    "hist = model2.fit(frames, commands, batch_size=64, epochs=50, validation_split=0.2)\n",
    "\n",
    "losses = []\n",
    "val_losses = []\n",
    "current_loss = hist.history['loss']\n",
    "current_val_loss = hist.history['val_loss'] \n",
    "\n",
    "losses.append(current_loss)\n",
    "print(val_losses)\n",
    "val_losses.append(current_val_loss)\n",
    "\n",
    "tqdm.write(\"Loss per epoch: {}\".format(current_loss))\n",
    "tqdm.write(\"Validation loss per epoch: {}\".format(current_val_loss))\n",
    "\n",
    "gc.collect()"
   ]
  },
  {
   "cell_type": "code",
   "execution_count": 23,
   "metadata": {},
   "outputs": [
    {
     "name": "stdout",
     "output_type": "stream",
     "text": [
      "[[5.3944830894470215, 2.6264050006866455, 3.264829397201538, 2.8298580646514893, 2.5420050621032715, 1.5520552396774292, 1.8301748037338257, 3.9461724758148193, 2.4090209007263184, 2.082956552505493, 1.9947128295898438, 1.6676231622695923, 2.282109498977661, 2.244840145111084, 1.4460557699203491, 2.0003957748413086, 1.928931474685669, 1.8268991708755493, 1.6772624254226685, 1.603170394897461, 1.4596844911575317, 1.6728918552398682, 1.3861310482025146, 1.901764988899231, 1.865831971168518, 1.2457350492477417, 1.7568541765213013, 1.6375776529312134, 1.4521890878677368, 1.434403419494629, 1.4635382890701294, 1.3660527467727661, 1.6470085382461548, 1.4544963836669922, 1.609840750694275, 1.9349912405014038, 1.8235036134719849, 1.4450905323028564, 1.5351823568344116, 1.7158089876174927, 1.556627869606018, 1.3638288974761963, 1.6014384031295776, 1.6176882982254028, 1.3463281393051147, 1.5266482830047607, 1.6962611675262451, 1.5753238201141357, 1.2428053617477417, 1.412822961807251]]\n",
      "[5.3944830894470215, 2.6264050006866455, 3.264829397201538, 2.8298580646514893, 2.5420050621032715, 1.5520552396774292, 1.8301748037338257, 3.9461724758148193, 2.4090209007263184, 2.082956552505493, 1.9947128295898438, 1.6676231622695923, 2.282109498977661, 2.244840145111084, 1.4460557699203491, 2.0003957748413086, 1.928931474685669, 1.8268991708755493, 1.6772624254226685, 1.603170394897461, 1.4596844911575317, 1.6728918552398682, 1.3861310482025146, 1.901764988899231, 1.865831971168518, 1.2457350492477417, 1.7568541765213013, 1.6375776529312134, 1.4521890878677368, 1.434403419494629, 1.4635382890701294, 1.3660527467727661, 1.6470085382461548, 1.4544963836669922, 1.609840750694275, 1.9349912405014038, 1.8235036134719849, 1.4450905323028564, 1.5351823568344116, 1.7158089876174927, 1.556627869606018, 1.3638288974761963, 1.6014384031295776, 1.6176882982254028, 1.3463281393051147, 1.5266482830047607, 1.6962611675262451, 1.5753238201141357, 1.2428053617477417, 1.412822961807251]\n"
     ]
    },
    {
     "data": {
      "image/png": "[encoded data removed]",
      "text/plain": [
       "<Figure size 720x432 with 1 Axes>"
      ]
     },
     "metadata": {
      "needs_background": "light"
     },
     "output_type": "display_data"
    },
    {
     "data": {
      "text/plain": [
       "<Figure size 432x288 with 0 Axes>"
      ]
     },
     "metadata": {},
     "output_type": "display_data"
    }
   ],
   "source": [
    "print(val_losses)\n",
    "print(hist.history['val_loss'] )\n",
    "loss_data = []\n",
    "val_loss_data = []\n",
    "\n",
    "\n",
    "val_loss_data = {'data': hist.history['val_loss'], 'label': 'Validation loss', 'alpha': 1.0}\n",
    "plot_stuff('Nivida cnn standalone validation loss', val_loss_data, figsize=(10, 6))"
   ]
  },
  {
   "cell_type": "code",
   "execution_count": 24,
   "metadata": {},
   "outputs": [
    {
     "data": {
      "image/png": "[encoded data removed]",
      "text/plain": [
       "<Figure size 720x432 with 1 Axes>"
      ]
     },
     "metadata": {
      "needs_background": "light"
     },
     "output_type": "display_data"
    },
    {
     "data": {
      "text/plain": [
       "<Figure size 432x288 with 0 Axes>"
      ]
     },
     "metadata": {},
     "output_type": "display_data"
    }
   ],
   "source": [
    "loss_data = {'data': losses[0], 'label': 'Loss', 'alpha': 1.0}\n",
    "plot_stuff('Training', loss_data, figsize=(10, 6))"
   ]
  },
  {
   "cell_type": "code",
   "execution_count": 25,
   "metadata": {},
   "outputs": [
    {
     "name": "stdout",
     "output_type": "stream",
     "text": [
      "sama\n"
     ]
    }
   ],
   "source": [
    "mem_frame = frames[10].reshape(1,60,180,3)\n",
    "mem_frame.shape\n",
    "mem_frame\n",
    "\n",
    "new_mem_frame = mem_frame\n",
    "\n",
    "if(new_mem_frame.all() == mem_frame.all()):\n",
    "    print(\"sama\")"
   ]
  },
  {
   "cell_type": "code",
   "execution_count": 26,
   "metadata": {},
   "outputs": [
    {
     "data": {
      "text/plain": [
       "array([[0.24457985, 0.8999531 ]], dtype=float32)"
      ]
     },
     "execution_count": 26,
     "metadata": {},
     "output_type": "execute_result"
    }
   ],
   "source": [
    "model2.predict(mem_frame)"
   ]
  },
  {
   "cell_type": "code",
   "execution_count": 27,
   "metadata": {},
   "outputs": [
    {
     "name": "stdout",
     "output_type": "stream",
     "text": [
      "20210120_043328\n"
     ]
    }
   ],
   "source": [
    "from datetime import datetime\n",
    "\n",
    "# Get current timestamp | source: https://www.programiz.com/python-programming/datetime/current-datetime\n",
    "now = datetime.now().strftime(\"%Y%m%d_%H%M%S\")\n",
    "print(now)\n",
    "\n",
    "#plot_model(model, to_file=model_path + model_file_prefix + model_file_suffix.format(model_number, 'png'), show_shapes=True)\n",
    "model2.save('../src/model_team_3_' + now + '_50epochs_ca1_ca2_ca3_ca4.h5')"
   ]
  },
  {
   "cell_type": "code",
   "execution_count": 28,
   "metadata": {},
   "outputs": [
    {
     "name": "stdout",
     "output_type": "stream",
     "text": [
      "309896\n",
      "1/1 [==============================] - 0s 654us/step - loss: 1.3654\n",
      "1/1 [==============================] - 0s 691us/step - loss: 1.3886\n",
      "1/1 [==============================] - 0s 590us/step - loss: 1.4314\n",
      "1/1 [==============================] - 0s 663us/step - loss: 1.7530\n",
      "1/1 [==============================] - 0s 668us/step - loss: 1.8691\n",
      "1/1 [==============================] - 0s 776us/step - loss: 1.8836\n",
      "1/1 [==============================] - 0s 635us/step - loss: 1.8852\n",
      "1/1 [==============================] - 0s 753us/step - loss: 1.8663\n",
      "1/1 [==============================] - 0s 861us/step - loss: 1.8740\n",
      "1/1 [==============================] - 0s 616us/step - loss: 1.8827\n",
      "1/1 [==============================] - 0s 608us/step - loss: 1.8726\n",
      "1/1 [==============================] - 0s 623us/step - loss: 1.8802\n",
      "1/1 [==============================] - 0s 620us/step - loss: 1.8652\n",
      "1/1 [==============================] - 0s 690us/step - loss: 1.8892\n",
      "1/1 [==============================] - 0s 604us/step - loss: 1.8684\n",
      "1/1 [==============================] - 0s 612us/step - loss: 1.8769\n",
      "1/1 [==============================] - 0s 623us/step - loss: 1.8755\n",
      "1/1 [==============================] - 0s 687us/step - loss: 1.8589\n",
      "1/1 [==============================] - 0s 647us/step - loss: 1.8541\n",
      "1/1 [==============================] - 0s 882us/step - loss: 1.8551\n",
      "1/1 [==============================] - 0s 655us/step - loss: 1.8595\n",
      "1/1 [==============================] - 0s 624us/step - loss: 1.8313\n",
      "1/1 [==============================] - 0s 638us/step - loss: 1.8535\n",
      "1/1 [==============================] - 0s 657us/step - loss: 1.5447\n",
      "1/1 [==============================] - 0s 636us/step - loss: 1.3759\n",
      "1/1 [==============================] - 0s 638us/step - loss: 1.3741\n",
      "1/1 [==============================] - 0s 633us/step - loss: 1.3663\n",
      "1/1 [==============================] - 0s 880us/step - loss: 1.3778\n",
      "1/1 [==============================] - 0s 659us/step - loss: 1.3758\n",
      "1/1 [==============================] - 0s 624us/step - loss: 1.3794\n",
      "1/1 [==============================] - 0s 620us/step - loss: 1.4054\n",
      "1/1 [==============================] - 0s 599us/step - loss: 1.4128\n",
      "1.6891241446137428\n"
     ]
    }
   ],
   "source": [
    "#todo load test set into memeory, evaluate\n",
    "import keras\n",
    "model = keras.models.load_model('../src/model_team_3_' + now + '_50epochs_ca1_ca2_ca3_ca4.h5')\n",
    "import glob\n",
    "\n",
    "val_data_loc=\"../cleaned_all\"\n",
    "filenames = glob.glob(\"../cleaned_all/*\")\n",
    "print(len(filenames))\n",
    "nr_of_datapoints = int(len(filenames)/2) #label and image files\n",
    "\n",
    "\n",
    "MAEs=[]\n",
    "preds=[]\n",
    "labels=[]\n",
    "\n",
    "# for batch in range(53482//32,(53482+nr_of_datapoints)//32):\n",
    "for batch in range(nr_of_datapoints//32-32,nr_of_datapoints//32):\n",
    "# for batch in range(nr_of_datapoints//32-32,nr_of_datapoints//32): # using the end of file. 32 batches of size batch of 32\n",
    "    frames=np.zeros((32,60,180,3))\n",
    "    commands = np.zeros((32,2))\n",
    "    for i in range(32):\n",
    "#         frames.append(np.load(val_data_loc + \"frame_\"+str(batch).zfill(7)+\".npy\"))\n",
    "#         commands.append(np.load(val_data_loc + \"commands_\"+str(batch).zfill(7)+\".npy\"))\n",
    "#         frames[i,:] = np.load(\"../cleaned_all/frame_\"+str(batch*32+i).zfill(7)+\".npy\")\n",
    "#         commands[i] = np.load(\"../cleaned_all/commands_\"+str(batch*32+i).zfill(7)+\".npy\")\n",
    "        frames[i,:] = np.load(\"../cleaned_all/frame_\"+str(batch).zfill(7)+\".npy\")\n",
    "        commands[i] = np.load(\"../cleaned_all/commands_\"+str(batch).zfill(7)+\".npy\")\n",
    "    MAEs.append(model.evaluate(frames,commands, batch_size=32))\n",
    "    pred = model.predict(frames)\n",
    "    preds.append(pred)\n",
    "    labels.append(commands)\n",
    "    \n",
    "print(np.mean(MAEs))"
   ]
  },
  {
   "cell_type": "code",
   "execution_count": 29,
   "metadata": {},
   "outputs": [
    {
     "name": "stdout",
     "output_type": "stream",
     "text": [
      "1.6891241446137428\n",
      "(32, 32) (32, 32)\n"
     ]
    },
    {
     "data": {
      "image/png": "[encoded data removed]",
      "text/plain": [
       "<Figure size 2304x576 with 1 Axes>"
      ]
     },
     "metadata": {
      "needs_background": "light"
     },
     "output_type": "display_data"
    },
    {
     "data": {
      "image/png": "[encoded data removed]",
      "text/plain": [
       "<Figure size 2304x576 with 1 Axes>"
      ]
     },
     "metadata": {
      "needs_background": "light"
     },
     "output_type": "display_data"
    },
    {
     "data": {
      "text/plain": [
       "<matplotlib.collections.PathCollection at 0x7f2cdd5f4fd0>"
      ]
     },
     "execution_count": 29,
     "metadata": {},
     "output_type": "execute_result"
    },
    {
     "data": {
      "image/png": "[encoded data removed]",
      "text/plain": [
       "<Figure size 432x288 with 1 Axes>"
      ]
     },
     "metadata": {
      "needs_background": "light"
     },
     "output_type": "display_data"
    }
   ],
   "source": [
    "print(np.mean(MAEs))\n",
    "p_steer=np.array(preds)[:,:,0]\n",
    "l_steer=np.array(labels)[:,:,0]\n",
    "p_throttle=np.array(preds)[:,:,1]\n",
    "l_throttle=np.array(labels)[:,:,1]\n",
    "\n",
    "print(p_steer.shape,l_steer.shape)\n",
    "p_steer=p_steer.flatten()\n",
    "l_steer=l_steer.flatten()\n",
    "p_throttle=p_throttle.flatten()\n",
    "l_throttle=l_throttle.flatten()\n",
    "\n",
    "\n",
    "plt.figure(figsize=(32,8))\n",
    "plt.plot(range(1000),l_steer[:1000],label=\"human steering\")\n",
    "plt.plot(range(1000),p_steer[:1000],label=\"predicted\")\n",
    "plt.legend()\n",
    "plt.show()\n",
    "\n",
    "\n",
    "plt.figure(figsize=(32,8))\n",
    "plt.plot(range(1000),l_throttle[:1000],label=\"human throttle\")\n",
    "plt.plot(range(1000),p_throttle[:1000],label=\"predicted\")\n",
    "plt.legend()\n",
    "plt.show()\n",
    "\n",
    "\n",
    "\n",
    "plt.scatter(l_steer,p_steer,s=0.001)"
   ]
  },
  {
   "cell_type": "code",
   "execution_count": null,
   "metadata": {},
   "outputs": [],
   "source": []
  }
 ],
 "metadata": {
  "kernelspec": {
   "display_name": "Python 3",
   "language": "python",
   "name": "python3"
  },
  "language_info": {
   "codemirror_mode": {
    "name": "ipython",
    "version": 3
   },
   "file_extension": ".py",
   "mimetype": "text/x-python",
   "name": "python",
   "nbconvert_exporter": "python",
   "pygments_lexer": "ipython3",
   "version": "3.8.3"
  },
  "pycharm": {
   "stem_cell": {
    "cell_type": "raw",
    "metadata": {
     "collapsed": false
    },
    "source": []
   }
  }
 },
 "nbformat": 4,
 "nbformat_minor": 2
}
