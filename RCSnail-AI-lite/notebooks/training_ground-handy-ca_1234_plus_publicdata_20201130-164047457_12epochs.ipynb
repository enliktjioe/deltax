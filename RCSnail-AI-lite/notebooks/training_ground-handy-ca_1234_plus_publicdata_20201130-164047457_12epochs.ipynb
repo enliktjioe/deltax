{
 "cells": [
  {
   "cell_type": "code",
   "execution_count": 1,
   "metadata": {},
   "outputs": [
    {
     "data": {
      "text/html": [
       "\n",
       "<style>\n",
       "    div#notebook-container    { width: 75%; }\n",
       "</style>\n"
      ],
      "text/plain": [
       "<IPython.core.display.HTML object>"
      ]
     },
     "metadata": {},
     "output_type": "display_data"
    }
   ],
   "source": [
    "from IPython.display import display, HTML\n",
    "\n",
    "display(HTML(data=\"\"\"\n",
    "<style>\n",
    "    div#notebook-container    { width: 75%; }\n",
    "</style>\n",
    "\"\"\"))"
   ]
  },
  {
   "cell_type": "code",
   "execution_count": 2,
   "metadata": {},
   "outputs": [
    {
     "name": "stdout",
     "output_type": "stream",
     "text": [
      "Nivida\\ cnn\\ standalone\\ validation\\ loss.png\r\n",
      "Training.png\r\n",
      "Untitled.ipynb\r\n",
      "script\r\n",
      "training_ground-handy-ca1_ca2_ca3.ipynb\r\n",
      "training_ground-handy-ca1_ca2_ca3_ca4-25_50epochs.ipynb\r\n",
      "training_ground-handy-ca1_ca2_ca3_ca4.ipynb\r\n",
      "training_ground-handy-ca1_ca2_ca3_ca4_ca5-13epochs.ipynb\r\n",
      "training_ground-handy-ca1_ca2_ca3_ca6-10epochs.ipynb\r\n",
      "training_ground-handy-ca_1234_plus_publicdata_20201130-164047457_12epochs.ipynb\r\n",
      "training_ground-handy.ipynb\r\n",
      "training_ground.ipynb\r\n"
     ]
    }
   ],
   "source": [
    "!dir"
   ]
  },
  {
   "cell_type": "code",
   "execution_count": 3,
   "metadata": {},
   "outputs": [
    {
     "name": "stdout",
     "output_type": "stream",
     "text": [
      "3.8.3\n"
     ]
    }
   ],
   "source": [
    "from platform import python_version\n",
    "\n",
    "print(python_version())"
   ]
  },
  {
   "cell_type": "code",
   "execution_count": 4,
   "metadata": {},
   "outputs": [],
   "source": [
    "%matplotlib inline\n",
    "import os\n",
    "import sys\n",
    "import gc\n",
    "import time\n",
    "from tqdm.notebook import tqdm\n",
    "\n",
    "import numpy as np\n",
    "import matplotlib.pyplot as plt\n",
    "from sklearn.model_selection import train_test_split\n",
    "from tensorflow.keras.utils import plot_model\n",
    "\n",
    "module_path_list = [os.path.abspath(os.path.join('../')), \n",
    "                    os.path.abspath(os.path.join('../../RCSnail-Commons'))]\n",
    "\n",
    "for module_path in module_path_list:\n",
    "    if module_path not in sys.path:\n",
    "        sys.path.append(module_path)\n",
    "\n",
    "from commons.configuration_manager import ConfigurationManager\n",
    "#from src.utilities.transformer import Transformer\n",
    "from src.learning.training.generator import Generator, GenFiles\n",
    "#from src.learning.models import create_standalone_nvidia_cnn, create_standalone_resnet\n",
    "                                "
   ]
  },
  {
   "cell_type": "code",
   "execution_count": 5,
   "metadata": {},
   "outputs": [],
   "source": [
    "def plot_stuff(title, plot_elem, figsize=(18, 10)):\n",
    "    fig=plt.figure(figsize=figsize)\n",
    "    plt.title(title)\n",
    "    plt.ylabel('Loss')\n",
    "    plt.xlabel('Epoch')\n",
    "    #x = np.arange(0, len(plot_elems[0]['data']), 1)\n",
    "    \n",
    "    #for plot_elem in plot_elems:\n",
    "    #    plt.errorbar(x, plot_elem['data'], yerr=plot_elem['error'], label=plot_elem['label'], alpha=plot_elem['alpha'], fmt='-o', capsize=5)\n",
    "    \n",
    "    plt.plot(list(range(1,len(plot_elem['data'])+1)), plot_elem['data'])\n",
    "    plt.grid(axis='both')\n",
    "    #plt.legend(loc='best', prop={'size': 15})\n",
    "    plt.show()\n",
    "    plt.savefig('./' + title + '.png')"
   ]
  },
  {
   "cell_type": "code",
   "execution_count": 6,
   "metadata": {},
   "outputs": [],
   "source": [
    "def create_standalone_nvidia_cnn(activation='linear', input_shape=(60, 180, 3), output_shape=1):\n",
    "    \"\"\"\n",
    "    Activation: linear, softmax.\n",
    "    Architecture is from nvidia paper mentioned in https://github.com/tanelp/self-driving-convnet/blob/master/train.py\n",
    "    \"\"\"\n",
    "    from tensorflow.keras.layers import Convolution2D\n",
    "    from tensorflow.keras.regularizers import l2\n",
    "    from tensorflow.keras.layers import Dense\n",
    "    from tensorflow.keras.layers import Flatten\n",
    "    from tensorflow.keras.layers import Input\n",
    "    from tensorflow.keras.models import Model\n",
    "    from tensorflow.keras.optimizers import Adam\n",
    "    from tensorflow.keras.losses import mean_squared_error, mean_absolute_error\n",
    "\n",
    "    inputs = Input(shape=input_shape)\n",
    "    conv_1 = Convolution2D(24, kernel_size=(5, 5), kernel_regularizer=l2(0.0005), strides=(2, 2), padding=\"same\", activation=\"elu\")(inputs)\n",
    "    conv_2 = Convolution2D(36, kernel_size=(5, 5), kernel_regularizer=l2(0.0005), strides=(2, 2), padding=\"same\", activation=\"elu\")(conv_1)\n",
    "    conv_3 = Convolution2D(48, kernel_size=(5, 5), kernel_regularizer=l2(0.0005), strides=(2, 2), padding=\"same\", activation=\"elu\")(conv_2)\n",
    "    conv_4 = Convolution2D(64, kernel_size=(3, 3), kernel_regularizer=l2(0.0005), padding=\"same\", activation=\"elu\")(conv_3)\n",
    "    conv_5 = Convolution2D(64, kernel_size=(3, 3), kernel_regularizer=l2(0.0005), padding=\"same\", activation=\"elu\")(conv_4)\n",
    "    flatten = Flatten()(conv_5)\n",
    "    dense_1 = Dense(1164, kernel_regularizer=l2(0.0005), activation=\"elu\")(flatten)\n",
    "    dense_2 = Dense(100, kernel_regularizer=l2(0.0005), activation=\"elu\")(dense_1)\n",
    "    dense_3 = Dense(50, kernel_regularizer=l2(0.0005), activation=\"elu\")(dense_2)\n",
    "    dense_4 = Dense(10, kernel_regularizer=l2(0.0005), activation=\"elu\")(dense_3)\n",
    "    out_dense = Dense(output_shape, activation=activation)(dense_4)\n",
    "\n",
    "    model = Model(inputs=inputs, outputs=out_dense)\n",
    "    optimizer = Adam(lr=3e-4)\n",
    "    model.compile(loss=mean_absolute_error, optimizer=optimizer)\n",
    "\n",
    "    return model"
   ]
  },
  {
   "cell_type": "markdown",
   "metadata": {},
   "source": [
    "# Handy Testing"
   ]
  },
  {
   "cell_type": "code",
   "execution_count": 7,
   "metadata": {},
   "outputs": [],
   "source": [
    "import json\n",
    "import numpy as np\n",
    "import os\n",
    "import matplotlib.pyplot as plt\n",
    "import skimage.io as io\n",
    "import skimage\n",
    "from skimage.transform import rescale, resize, downscale_local_mean\n",
    "\n",
    "import glob\n",
    "import random\n",
    "from PIL import Image\n",
    "import PIL\n",
    " "
   ]
  },
  {
   "cell_type": "code",
   "execution_count": 8,
   "metadata": {},
   "outputs": [
    {
     "name": "stdout",
     "output_type": "stream",
     "text": [
      "../cleaned_all/frame_0083594.npy\n",
      "157340\n",
      "157340\n"
     ]
    }
   ],
   "source": [
    "import glob\n",
    "\n",
    "# val_data_loc=\"preprocessed/cleaned_all\"\n",
    "# filenames = glob.glob(\"preprocessed/cleaned_all/*\")\n",
    "val_data_loc=\"../cleaned_all/\"\n",
    "filenames = glob.glob(\"../cleaned_all/*\")\n",
    "print(filenames[1])\n",
    "print(int(len(filenames)/2))\n",
    "nr_of_datapoints = int(len(filenames)/2) #label and image files\n",
    "print(nr_of_datapoints)\n",
    "\n",
    "\n",
    "MAEs=[]\n",
    "preds=[]\n",
    "labels=[]\n"
   ]
  },
  {
   "cell_type": "code",
   "execution_count": 9,
   "metadata": {},
   "outputs": [],
   "source": [
    "frames = []\n",
    "commands = []\n",
    "\n",
    "# for batch in range(53482,53482+nr_of_datapoints): # using the end of file. 32 batches of size batch of 32\n",
    "for batch in range(1,nr_of_datapoints): # using the end of file. 32 batches of size batch of 32\n",
    "    frames.append(np.load(val_data_loc + \"frame_\"+str(batch).zfill(7)+\".npy\"))\n",
    "    commands.append(np.load(val_data_loc + \"commands_\"+str(batch).zfill(7)+\".npy\"))"
   ]
  },
  {
   "cell_type": "code",
   "execution_count": 10,
   "metadata": {},
   "outputs": [
    {
     "data": {
      "text/plain": [
       "(157339, 60, 180, 3)"
      ]
     },
     "execution_count": 10,
     "metadata": {},
     "output_type": "execute_result"
    }
   ],
   "source": [
    "#frames = frames.reshape(1,60,180,3)\n",
    "frames = np.array(frames)\n",
    "frames.shape"
   ]
  },
  {
   "cell_type": "code",
   "execution_count": 11,
   "metadata": {},
   "outputs": [
    {
     "data": {
      "text/plain": [
       "(157339, 2)"
      ]
     },
     "execution_count": 11,
     "metadata": {},
     "output_type": "execute_result"
    }
   ],
   "source": [
    "#commands = commands.reshape(1, 2)\n",
    "commands = np.array(commands)\n",
    "commands.shape"
   ]
  },
  {
   "cell_type": "code",
   "execution_count": 12,
   "metadata": {},
   "outputs": [
    {
     "name": "stdout",
     "output_type": "stream",
     "text": [
      "Model: \"functional_1\"\n",
      "_________________________________________________________________\n",
      "Layer (type)                 Output Shape              Param #   \n",
      "=================================================================\n",
      "input_1 (InputLayer)         [(None, 60, 180, 3)]      0         \n",
      "_________________________________________________________________\n",
      "conv2d (Conv2D)              (None, 30, 90, 24)        1824      \n",
      "_________________________________________________________________\n",
      "conv2d_1 (Conv2D)            (None, 15, 45, 36)        21636     \n",
      "_________________________________________________________________\n",
      "conv2d_2 (Conv2D)            (None, 8, 23, 48)         43248     \n",
      "_________________________________________________________________\n",
      "conv2d_3 (Conv2D)            (None, 8, 23, 64)         27712     \n",
      "_________________________________________________________________\n",
      "conv2d_4 (Conv2D)            (None, 8, 23, 64)         36928     \n",
      "_________________________________________________________________\n",
      "flatten (Flatten)            (None, 11776)             0         \n",
      "_________________________________________________________________\n",
      "dense (Dense)                (None, 1164)              13708428  \n",
      "_________________________________________________________________\n",
      "dense_1 (Dense)              (None, 100)               116500    \n",
      "_________________________________________________________________\n",
      "dense_2 (Dense)              (None, 50)                5050      \n",
      "_________________________________________________________________\n",
      "dense_3 (Dense)              (None, 10)                510       \n",
      "_________________________________________________________________\n",
      "dense_4 (Dense)              (None, 2)                 22        \n",
      "=================================================================\n",
      "Total params: 13,961,858\n",
      "Trainable params: 13,961,858\n",
      "Non-trainable params: 0\n",
      "_________________________________________________________________\n"
     ]
    }
   ],
   "source": [
    "model = create_standalone_nvidia_cnn(activation='linear', input_shape=(60, 180, 3), output_shape=2)\n",
    "model.summary()"
   ]
  },
  {
   "cell_type": "code",
   "execution_count": 13,
   "metadata": {
    "scrolled": true
   },
   "outputs": [
    {
     "name": "stdout",
     "output_type": "stream",
     "text": [
      "Epoch 1/12\n",
      "1967/1967 [==============================] - 422s 214ms/step - loss: 0.8657 - val_loss: 0.4680\n",
      "Epoch 2/12\n",
      "1967/1967 [==============================] - 430s 218ms/step - loss: 0.3561 - val_loss: 0.2728\n",
      "Epoch 3/12\n",
      "1967/1967 [==============================] - 406s 207ms/step - loss: 0.2336 - val_loss: 0.1953\n",
      "Epoch 4/12\n",
      "1967/1967 [==============================] - 377s 192ms/step - loss: 0.1859 - val_loss: 0.1684\n",
      "Epoch 5/12\n",
      "1967/1967 [==============================] - 423s 215ms/step - loss: 0.1646 - val_loss: 0.1504\n",
      "Epoch 6/12\n",
      "1967/1967 [==============================] - 560s 285ms/step - loss: 0.1541 - val_loss: 0.1466\n",
      "Epoch 7/12\n",
      "1967/1967 [==============================] - 379s 193ms/step - loss: 0.1481 - val_loss: 0.1426\n",
      "Epoch 8/12\n",
      "1967/1967 [==============================] - 378s 192ms/step - loss: 0.1438 - val_loss: 0.1377\n",
      "Epoch 9/12\n",
      "1967/1967 [==============================] - 379s 192ms/step - loss: 0.1406 - val_loss: 0.1345\n",
      "Epoch 10/12\n",
      "1967/1967 [==============================] - 380s 193ms/step - loss: 0.1380 - val_loss: 0.1338\n",
      "Epoch 11/12\n",
      "1967/1967 [==============================] - 379s 193ms/step - loss: 0.1363 - val_loss: 0.1363\n",
      "Epoch 12/12\n",
      "1967/1967 [==============================] - 380s 193ms/step - loss: 0.1344 - val_loss: 0.1343\n",
      "[]\n",
      "Loss per epoch: [0.8657259941101074, 0.3560663163661957, 0.2336077094078064, 0.18592214584350586, 0.16463437676429749, 0.15413954854011536, 0.1481437087059021, 0.14383669197559357, 0.1405915915966034, 0.1380443572998047, 0.1362581104040146, 0.13444948196411133]\n",
      "Validation loss per epoch: [0.4679996967315674, 0.2727806270122528, 0.19532233476638794, 0.16835704445838928, 0.15042904019355774, 0.14663508534431458, 0.14264413714408875, 0.13771496713161469, 0.13454638421535492, 0.1338043063879013, 0.13629958033561707, 0.1343470960855484]\n"
     ]
    },
    {
     "data": {
      "text/plain": [
       "1533"
      ]
     },
     "execution_count": 13,
     "metadata": {},
     "output_type": "execute_result"
    }
   ],
   "source": [
    "hist = model.fit(frames, commands, batch_size=64, epochs=12, validation_split=0.2)\n",
    "\n",
    "losses = []\n",
    "val_losses = []\n",
    "current_loss = hist.history['loss']\n",
    "current_val_loss = hist.history['val_loss'] \n",
    "\n",
    "losses.append(current_loss)\n",
    "print(val_losses)\n",
    "val_losses.append(current_val_loss)\n",
    "\n",
    "tqdm.write(\"Loss per epoch: {}\".format(current_loss))\n",
    "tqdm.write(\"Validation loss per epoch: {}\".format(current_val_loss))\n",
    "\n",
    "gc.collect()"
   ]
  },
  {
   "cell_type": "code",
   "execution_count": 14,
   "metadata": {},
   "outputs": [
    {
     "name": "stdout",
     "output_type": "stream",
     "text": [
      "[[0.4679996967315674, 0.2727806270122528, 0.19532233476638794, 0.16835704445838928, 0.15042904019355774, 0.14663508534431458, 0.14264413714408875, 0.13771496713161469, 0.13454638421535492, 0.1338043063879013, 0.13629958033561707, 0.1343470960855484]]\n",
      "[0.4679996967315674, 0.2727806270122528, 0.19532233476638794, 0.16835704445838928, 0.15042904019355774, 0.14663508534431458, 0.14264413714408875, 0.13771496713161469, 0.13454638421535492, 0.1338043063879013, 0.13629958033561707, 0.1343470960855484]\n"
     ]
    },
    {
     "data": {
      "image/png": "[encoded data removed]",
      "text/plain": [
       "<Figure size 720x432 with 1 Axes>"
      ]
     },
     "metadata": {
      "needs_background": "light"
     },
     "output_type": "display_data"
    },
    {
     "data": {
      "text/plain": [
       "<Figure size 432x288 with 0 Axes>"
      ]
     },
     "metadata": {},
     "output_type": "display_data"
    }
   ],
   "source": [
    "print(val_losses)\n",
    "print(hist.history['val_loss'] )\n",
    "loss_data = []\n",
    "val_loss_data = []\n",
    "\n",
    "\n",
    "val_loss_data = {'data': hist.history['val_loss'], 'label': 'Validation loss', 'alpha': 1.0}\n",
    "plot_stuff('Nivida cnn standalone validation loss', val_loss_data, figsize=(10, 6))"
   ]
  },
  {
   "cell_type": "code",
   "execution_count": 15,
   "metadata": {},
   "outputs": [
    {
     "data": {
      "image/png": "[encoded data removed]",
      "text/plain": [
       "<Figure size 720x432 with 1 Axes>"
      ]
     },
     "metadata": {
      "needs_background": "light"
     },
     "output_type": "display_data"
    },
    {
     "data": {
      "text/plain": [
       "<Figure size 432x288 with 0 Axes>"
      ]
     },
     "metadata": {},
     "output_type": "display_data"
    }
   ],
   "source": [
    "loss_data = {'data': losses[0], 'label': 'Loss', 'alpha': 1.0}\n",
    "plot_stuff('Training', loss_data, figsize=(10, 6))"
   ]
  },
  {
   "cell_type": "code",
   "execution_count": 16,
   "metadata": {},
   "outputs": [
    {
     "name": "stdout",
     "output_type": "stream",
     "text": [
      "sama\n"
     ]
    }
   ],
   "source": [
    "mem_frame = frames[10].reshape(1,60,180,3)\n",
    "mem_frame.shape\n",
    "mem_frame\n",
    "\n",
    "new_mem_frame = mem_frame\n",
    "\n",
    "if(new_mem_frame.all() == mem_frame.all()):\n",
    "    print(\"sama\")"
   ]
  },
  {
   "cell_type": "code",
   "execution_count": 17,
   "metadata": {},
   "outputs": [
    {
     "data": {
      "text/plain": [
       "array([[0.07776981, 0.45798796]], dtype=float32)"
      ]
     },
     "execution_count": 17,
     "metadata": {},
     "output_type": "execute_result"
    }
   ],
   "source": [
    "model.predict(mem_frame)"
   ]
  },
  {
   "cell_type": "code",
   "execution_count": 18,
   "metadata": {},
   "outputs": [
    {
     "name": "stdout",
     "output_type": "stream",
     "text": [
      "20210123_022105\n"
     ]
    }
   ],
   "source": [
    "from datetime import datetime\n",
    "\n",
    "# Get current timestamp | source: https://www.programiz.com/python-programming/datetime/current-datetime\n",
    "now = datetime.now().strftime(\"%Y%m%d_%H%M%S\")\n",
    "print(now)\n",
    "\n",
    "#plot_model(model, to_file=model_path + model_file_prefix + model_file_suffix.format(model_number, 'png'), show_shapes=True)\n",
    "model.save('../src/model_team_3_' + now + '_10epochs_ca1_ca2_ca3_ca6.h5')"
   ]
  },
  {
   "cell_type": "code",
   "execution_count": 19,
   "metadata": {},
   "outputs": [
    {
     "name": "stdout",
     "output_type": "stream",
     "text": [
      "314680\n",
      "1/1 [==============================] - 0s 619us/step - loss: 0.2050\n",
      "1/1 [==============================] - 0s 702us/step - loss: 0.1077\n",
      "1/1 [==============================] - 0s 661us/step - loss: 0.0679\n",
      "1/1 [==============================] - 0s 693us/step - loss: 0.0608\n",
      "1/1 [==============================] - 0s 602us/step - loss: 0.0691\n",
      "1/1 [==============================] - 0s 619us/step - loss: 0.0727\n",
      "1/1 [==============================] - 0s 616us/step - loss: 0.0662\n",
      "1/1 [==============================] - 0s 724us/step - loss: 0.0663\n",
      "1/1 [==============================] - 0s 612us/step - loss: 0.0574\n",
      "1/1 [==============================] - 0s 869us/step - loss: 0.0465\n",
      "1/1 [==============================] - 0s 2ms/step - loss: 0.0457\n",
      "1/1 [==============================] - 0s 723us/step - loss: 0.0467\n",
      "1/1 [==============================] - 0s 664us/step - loss: 0.0439\n",
      "1/1 [==============================] - 0s 620us/step - loss: 0.0342\n",
      "1/1 [==============================] - 0s 726us/step - loss: 0.0322\n",
      "1/1 [==============================] - 0s 682us/step - loss: 0.0365\n",
      "1/1 [==============================] - 0s 684us/step - loss: 0.0530\n",
      "1/1 [==============================] - 0s 596us/step - loss: 0.0471\n",
      "1/1 [==============================] - 0s 640us/step - loss: 0.0433\n",
      "1/1 [==============================] - 0s 593us/step - loss: 0.0364\n",
      "1/1 [==============================] - 0s 697us/step - loss: 0.0659\n",
      "1/1 [==============================] - 0s 639us/step - loss: 0.4771\n",
      "1/1 [==============================] - 0s 721us/step - loss: 0.5303\n",
      "1/1 [==============================] - 0s 605us/step - loss: 0.1563\n",
      "1/1 [==============================] - 0s 878us/step - loss: 0.0387\n",
      "1/1 [==============================] - 0s 616us/step - loss: 0.0549\n",
      "1/1 [==============================] - 0s 561us/step - loss: 0.0643\n",
      "1/1 [==============================] - 0s 589us/step - loss: 0.0587\n",
      "1/1 [==============================] - 0s 824us/step - loss: 0.0639\n",
      "1/1 [==============================] - 0s 675us/step - loss: 0.0408\n",
      "1/1 [==============================] - 0s 673us/step - loss: 0.0325\n",
      "1/1 [==============================] - 0s 576us/step - loss: 0.0462\n",
      "0.08964032656513155\n"
     ]
    }
   ],
   "source": [
    "#todo load test set into memeory, evaluate\n",
    "import keras\n",
    "model = keras.models.load_model('../src/model_team_3_' + now + '_10epochs_ca1_ca2_ca3_ca6.h5')\n",
    "import glob\n",
    "\n",
    "val_data_loc=\"../cleaned_all\"\n",
    "filenames = glob.glob(\"../cleaned_all/*\")\n",
    "print(len(filenames))\n",
    "nr_of_datapoints = int(len(filenames)/2) #label and image files\n",
    "\n",
    "\n",
    "MAEs=[]\n",
    "preds=[]\n",
    "labels=[]\n",
    "\n",
    "# for batch in range(53482//32,(53482+nr_of_datapoints)//32):\n",
    "for batch in range(nr_of_datapoints//32-32,nr_of_datapoints//32):\n",
    "# for batch in range(nr_of_datapoints//32-32,nr_of_datapoints//32): # using the end of file. 32 batches of size batch of 32\n",
    "    frames=np.zeros((32,60,180,3))\n",
    "    commands = np.zeros((32,2))\n",
    "    for i in range(32):\n",
    "#         frames.append(np.load(val_data_loc + \"frame_\"+str(batch).zfill(7)+\".npy\"))\n",
    "#         commands.append(np.load(val_data_loc + \"commands_\"+str(batch).zfill(7)+\".npy\"))\n",
    "#         frames[i,:] = np.load(\"../cleaned_all/frame_\"+str(batch*32+i).zfill(7)+\".npy\")\n",
    "#         commands[i] = np.load(\"../cleaned_all/commands_\"+str(batch*32+i).zfill(7)+\".npy\")\n",
    "        frames[i,:] = np.load(\"../cleaned_all/frame_\"+str(batch).zfill(7)+\".npy\")\n",
    "        commands[i] = np.load(\"../cleaned_all/commands_\"+str(batch).zfill(7)+\".npy\")\n",
    "    MAEs.append(model.evaluate(frames,commands, batch_size=32))\n",
    "    pred = model.predict(frames)\n",
    "    preds.append(pred)\n",
    "    labels.append(commands)\n",
    "    \n",
    "print(np.mean(MAEs))"
   ]
  },
  {
   "cell_type": "code",
   "execution_count": 20,
   "metadata": {},
   "outputs": [
    {
     "name": "stdout",
     "output_type": "stream",
     "text": [
      "0.08964032656513155\n",
      "(32, 32) (32, 32)\n"
     ]
    },
    {
     "data": {
      "image/png": "[encoded data removed]",
      "text/plain": [
       "<Figure size 2304x576 with 1 Axes>"
      ]
     },
     "metadata": {
      "needs_background": "light"
     },
     "output_type": "display_data"
    },
    {
     "data": {
      "image/png": "[encoded data removed]",
      "text/plain": [
       "<Figure size 2304x576 with 1 Axes>"
      ]
     },
     "metadata": {
      "needs_background": "light"
     },
     "output_type": "display_data"
    },
    {
     "data": {
      "text/plain": [
       "<matplotlib.collections.PathCollection at 0x7f9d080179d0>"
      ]
     },
     "execution_count": 20,
     "metadata": {},
     "output_type": "execute_result"
    },
    {
     "data": {
      "image/png": "[encoded data removed]",
      "text/plain": [
       "<Figure size 432x288 with 1 Axes>"
      ]
     },
     "metadata": {
      "needs_background": "light"
     },
     "output_type": "display_data"
    }
   ],
   "source": [
    "print(np.mean(MAEs))\n",
    "p_steer=np.array(preds)[:,:,0]\n",
    "l_steer=np.array(labels)[:,:,0]\n",
    "p_throttle=np.array(preds)[:,:,1]\n",
    "l_throttle=np.array(labels)[:,:,1]\n",
    "\n",
    "print(p_steer.shape,l_steer.shape)\n",
    "p_steer=p_steer.flatten()\n",
    "l_steer=l_steer.flatten()\n",
    "p_throttle=p_throttle.flatten()\n",
    "l_throttle=l_throttle.flatten()\n",
    "\n",
    "\n",
    "plt.figure(figsize=(32,8))\n",
    "plt.plot(range(1000),l_steer[:1000],label=\"human steering\")\n",
    "plt.plot(range(1000),p_steer[:1000],label=\"predicted\")\n",
    "plt.legend()\n",
    "plt.show()\n",
    "\n",
    "\n",
    "plt.figure(figsize=(32,8))\n",
    "plt.plot(range(1000),l_throttle[:1000],label=\"human throttle\")\n",
    "plt.plot(range(1000),p_throttle[:1000],label=\"predicted\")\n",
    "plt.legend()\n",
    "plt.show()\n",
    "\n",
    "\n",
    "\n",
    "plt.scatter(l_steer,p_steer,s=0.001)"
   ]
  },
  {
   "cell_type": "code",
   "execution_count": null,
   "metadata": {},
   "outputs": [],
   "source": []
  }
 ],
 "metadata": {
  "kernelspec": {
   "display_name": "Python 3",
   "language": "python",
   "name": "python3"
  },
  "language_info": {
   "codemirror_mode": {
    "name": "ipython",
    "version": 3
   },
   "file_extension": ".py",
   "mimetype": "text/x-python",
   "name": "python",
   "nbconvert_exporter": "python",
   "pygments_lexer": "ipython3",
   "version": "3.8.3"
  },
  "pycharm": {
   "stem_cell": {
    "cell_type": "raw",
    "metadata": {
     "collapsed": false
    },
    "source": []
   }
  }
 },
 "nbformat": 4,
 "nbformat_minor": 2
}
