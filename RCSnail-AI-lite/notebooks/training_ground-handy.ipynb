{
 "cells": [
  {
   "cell_type": "code",
   "execution_count": 1,
   "metadata": {},
   "outputs": [
    {
     "data": {
      "text/html": [
       "\n",
       "<style>\n",
       "    div#notebook-container    { width: 75%; }\n",
       "</style>\n"
      ],
      "text/plain": [
       "<IPython.core.display.HTML object>"
      ]
     },
     "metadata": {},
     "output_type": "display_data"
    }
   ],
   "source": [
    "from IPython.display import display, HTML\n",
    "\n",
    "display(HTML(data=\"\"\"\n",
    "<style>\n",
    "    div#notebook-container    { width: 75%; }\n",
    "</style>\n",
    "\"\"\"))"
   ]
  },
  {
   "cell_type": "code",
   "execution_count": 2,
   "metadata": {},
   "outputs": [
    {
     "name": "stdout",
     "output_type": "stream",
     "text": [
      "script\ttraining_ground-handy.ipynb  training_ground.ipynb\r\n"
     ]
    }
   ],
   "source": [
    "!dir"
   ]
  },
  {
   "cell_type": "code",
   "execution_count": 3,
   "metadata": {},
   "outputs": [
    {
     "name": "stdout",
     "output_type": "stream",
     "text": [
      "3.8.3\n"
     ]
    }
   ],
   "source": [
    "from platform import python_version\n",
    "\n",
    "print(python_version())"
   ]
  },
  {
   "cell_type": "code",
   "execution_count": 4,
   "metadata": {},
   "outputs": [
    {
     "name": "stdout",
     "output_type": "stream",
     "text": [
      "Python 3.8.3\r\n"
     ]
    }
   ],
   "source": [
    "!python --version"
   ]
  },
  {
   "cell_type": "code",
   "execution_count": 5,
   "metadata": {},
   "outputs": [],
   "source": [
    "%matplotlib inline\n",
    "import os\n",
    "import sys\n",
    "import gc\n",
    "import time\n",
    "from tqdm.notebook import tqdm\n",
    "\n",
    "import numpy as np\n",
    "import matplotlib.pyplot as plt\n",
    "from sklearn.model_selection import train_test_split\n",
    "from tensorflow.keras.utils import plot_model\n",
    "\n",
    "module_path_list = [os.path.abspath(os.path.join('../')), \n",
    "                    os.path.abspath(os.path.join('../../RCSnail-Commons'))]\n",
    "\n",
    "for module_path in module_path_list:\n",
    "    if module_path not in sys.path:\n",
    "        sys.path.append(module_path)\n",
    "\n",
    "from commons.configuration_manager import ConfigurationManager\n",
    "#from src.utilities.transformer import Transformer\n",
    "from src.learning.training.generator import Generator, GenFiles\n",
    "#from src.learning.models import create_standalone_nvidia_cnn, create_standalone_resnet\n",
    "                                "
   ]
  },
  {
   "cell_type": "code",
   "execution_count": 6,
   "metadata": {},
   "outputs": [],
   "source": [
    "def create_standalone_nvidia_cnn(activation='linear', input_shape=(60, 180, 3), output_shape=1):\n",
    "    \"\"\"\n",
    "    Activation: linear, softmax.\n",
    "    Architecture is from nvidia paper mentioned in https://github.com/tanelp/self-driving-convnet/blob/master/train.py\n",
    "    \"\"\"\n",
    "    from tensorflow.keras.layers import Convolution2D\n",
    "    from tensorflow.keras.regularizers import l2\n",
    "    from tensorflow.keras.layers import Dense\n",
    "    from tensorflow.keras.layers import Flatten\n",
    "    from tensorflow.keras.layers import Input\n",
    "    from tensorflow.keras.models import Model\n",
    "    from tensorflow.keras.optimizers import Adam\n",
    "    from tensorflow.keras.losses import mean_squared_error, mean_absolute_error\n",
    "\n",
    "    inputs = Input(shape=input_shape)\n",
    "    conv_1 = Convolution2D(24, kernel_size=(5, 5), kernel_regularizer=l2(0.0005), strides=(2, 2), padding=\"same\", activation=\"elu\")(inputs)\n",
    "    conv_2 = Convolution2D(36, kernel_size=(5, 5), kernel_regularizer=l2(0.0005), strides=(2, 2), padding=\"same\", activation=\"elu\")(conv_1)\n",
    "    conv_3 = Convolution2D(48, kernel_size=(5, 5), kernel_regularizer=l2(0.0005), strides=(2, 2), padding=\"same\", activation=\"elu\")(conv_2)\n",
    "    conv_4 = Convolution2D(64, kernel_size=(3, 3), kernel_regularizer=l2(0.0005), padding=\"same\", activation=\"elu\")(conv_3)\n",
    "    conv_5 = Convolution2D(64, kernel_size=(3, 3), kernel_regularizer=l2(0.0005), padding=\"same\", activation=\"elu\")(conv_4)\n",
    "    flatten = Flatten()(conv_5)\n",
    "    dense_1 = Dense(1164, kernel_regularizer=l2(0.0005), activation=\"elu\")(flatten)\n",
    "    dense_2 = Dense(100, kernel_regularizer=l2(0.0005), activation=\"elu\")(dense_1)\n",
    "    dense_3 = Dense(50, kernel_regularizer=l2(0.0005), activation=\"elu\")(dense_2)\n",
    "    dense_4 = Dense(10, kernel_regularizer=l2(0.0005), activation=\"elu\")(dense_3)\n",
    "    out_dense = Dense(output_shape, activation=activation)(dense_4)\n",
    "\n",
    "    model = Model(inputs=inputs, outputs=out_dense)\n",
    "    optimizer = Adam(lr=3e-4)\n",
    "    model.compile(loss=mean_absolute_error, optimizer=optimizer)\n",
    "\n",
    "    return model"
   ]
  },
  {
   "cell_type": "markdown",
   "metadata": {},
   "source": [
    "# Handy Testing"
   ]
  },
  {
   "cell_type": "code",
   "execution_count": 7,
   "metadata": {},
   "outputs": [],
   "source": [
    "import json\n",
    "import numpy as np\n",
    "import os\n",
    "import matplotlib.pyplot as plt\n",
    "import skimage.io as io\n",
    "import skimage\n",
    "from skimage.transform import rescale, resize, downscale_local_mean\n",
    "\n",
    "import glob\n",
    "import random\n",
    "from PIL import Image\n",
    "import PIL\n",
    " "
   ]
  },
  {
   "cell_type": "code",
   "execution_count": 8,
   "metadata": {},
   "outputs": [
    {
     "name": "stdout",
     "output_type": "stream",
     "text": [
      "../cleaned_all/commands_0057170.npy\n",
      "4891\n",
      "4891\n"
     ]
    }
   ],
   "source": [
    "import glob\n",
    "\n",
    "# val_data_loc=\"preprocessed/cleaned_all\"\n",
    "# filenames = glob.glob(\"preprocessed/cleaned_all/*\")\n",
    "val_data_loc=\"../cleaned_all/\"\n",
    "filenames = glob.glob(\"../cleaned_all/*\")\n",
    "print(filenames[1])\n",
    "print(int(len(filenames)/2))\n",
    "nr_of_datapoints = int(len(filenames)/2) #label and image files\n",
    "print(nr_of_datapoints)\n",
    "\n",
    "\n",
    "MAEs=[]\n",
    "preds=[]\n",
    "labels=[]\n"
   ]
  },
  {
   "cell_type": "code",
   "execution_count": 9,
   "metadata": {},
   "outputs": [
    {
     "name": "stdout",
     "output_type": "stream",
     "text": [
      "10\n",
      "11\n",
      "12\n",
      "13\n",
      "14\n",
      "15\n",
      "16\n",
      "17\n",
      "18\n",
      "19\n"
     ]
    }
   ],
   "source": [
    "for i in range(10,20,1):\n",
    "    print(i)"
   ]
  },
  {
   "cell_type": "code",
   "execution_count": 10,
   "metadata": {},
   "outputs": [],
   "source": [
    "frames = []\n",
    "commands = []\n",
    "for batch in range(53482,53482+nr_of_datapoints): # using the end of file. 32 batches of size batch of 32\n",
    "    #frames=np.zeros((1,60,180,3))\n",
    "    #commands = np.zeros((1,2))\n",
    "    \n",
    "#     frames.append(np.load(\"preprocessed/cleaned_all/frame_\"+str(batch).zfill(7)+\".npy\"))\n",
    "#     commands.append(np.load(\"preprocessed/cleaned_all/commands_\"+str(batch).zfill(7)+\".npy\"))\n",
    "#     frames.append(np.load(val_data_loc + \"frame_n1_m1_\"+str(batch).zfill(7)+\".npy\"))\n",
    "#     commands.append(np.load(val_data_loc + \"commands_n1_m1_\"+str(batch).zfill(7)+\".npy\"))\n",
    "    frames.append(np.load(val_data_loc + \"frame_\"+str(batch).zfill(7)+\".npy\"))\n",
    "    commands.append(np.load(val_data_loc + \"commands_\"+str(batch).zfill(7)+\".npy\"))\n",
    "    \n",
    "    \n",
    "    #print(commands)\n",
    "    \n",
    "    \n",
    "    \n",
    "    #MAEs.append(model.evaluate(frames,commands, batch_size=32))\n",
    "    #pred = model.predict(frames)\n",
    "    #preds.append(pred)\n",
    "    #labels.append(commands)"
   ]
  },
  {
   "cell_type": "code",
   "execution_count": 11,
   "metadata": {},
   "outputs": [
    {
     "data": {
      "text/plain": [
       "(4891, 60, 180, 3)"
      ]
     },
     "execution_count": 11,
     "metadata": {},
     "output_type": "execute_result"
    }
   ],
   "source": [
    "#frames = frames.reshape(1,60,180,3)\n",
    "frames = np.array(frames)\n",
    "frames.shape"
   ]
  },
  {
   "cell_type": "code",
   "execution_count": 12,
   "metadata": {},
   "outputs": [
    {
     "data": {
      "text/plain": [
       "(4891, 2)"
      ]
     },
     "execution_count": 12,
     "metadata": {},
     "output_type": "execute_result"
    }
   ],
   "source": [
    "#commands = commands.reshape(1, 2)\n",
    "commands = np.array(commands)\n",
    "commands.shape"
   ]
  },
  {
   "cell_type": "code",
   "execution_count": 13,
   "metadata": {},
   "outputs": [
    {
     "name": "stdout",
     "output_type": "stream",
     "text": [
      "Model: \"model\"\n",
      "_________________________________________________________________\n",
      "Layer (type)                 Output Shape              Param #   \n",
      "=================================================================\n",
      "input_1 (InputLayer)         [(None, 60, 180, 3)]      0         \n",
      "_________________________________________________________________\n",
      "conv2d (Conv2D)              (None, 30, 90, 24)        1824      \n",
      "_________________________________________________________________\n",
      "conv2d_1 (Conv2D)            (None, 15, 45, 36)        21636     \n",
      "_________________________________________________________________\n",
      "conv2d_2 (Conv2D)            (None, 8, 23, 48)         43248     \n",
      "_________________________________________________________________\n",
      "conv2d_3 (Conv2D)            (None, 8, 23, 64)         27712     \n",
      "_________________________________________________________________\n",
      "conv2d_4 (Conv2D)            (None, 8, 23, 64)         36928     \n",
      "_________________________________________________________________\n",
      "flatten (Flatten)            (None, 11776)             0         \n",
      "_________________________________________________________________\n",
      "dense (Dense)                (None, 1164)              13708428  \n",
      "_________________________________________________________________\n",
      "dense_1 (Dense)              (None, 100)               116500    \n",
      "_________________________________________________________________\n",
      "dense_2 (Dense)              (None, 50)                5050      \n",
      "_________________________________________________________________\n",
      "dense_3 (Dense)              (None, 10)                510       \n",
      "_________________________________________________________________\n",
      "dense_4 (Dense)              (None, 2)                 22        \n",
      "=================================================================\n",
      "Total params: 13,961,858\n",
      "Trainable params: 13,961,858\n",
      "Non-trainable params: 0\n",
      "_________________________________________________________________\n"
     ]
    }
   ],
   "source": [
    "model = create_standalone_nvidia_cnn(activation='linear', input_shape=(60, 180, 3), output_shape=2)\n",
    "model.summary()"
   ]
  },
  {
   "cell_type": "code",
   "execution_count": 14,
   "metadata": {
    "scrolled": true
   },
   "outputs": [
    {
     "name": "stdout",
     "output_type": "stream",
     "text": [
      "Epoch 1/30\n",
      "62/62 [==============================] - 12s 178ms/step - loss: 6.5606 - val_loss: 1.7124\n",
      "Epoch 2/30\n",
      "62/62 [==============================] - 11s 172ms/step - loss: 1.5930 - val_loss: 1.5924\n",
      "Epoch 3/30\n",
      "62/62 [==============================] - 11s 180ms/step - loss: 1.5193 - val_loss: 1.5675\n",
      "Epoch 4/30\n",
      "62/62 [==============================] - 11s 185ms/step - loss: 1.4790 - val_loss: 1.4851\n",
      "Epoch 5/30\n",
      "62/62 [==============================] - 11s 186ms/step - loss: 1.4085 - val_loss: 1.3355\n",
      "Epoch 6/30\n",
      "62/62 [==============================] - 12s 186ms/step - loss: 1.3003 - val_loss: 1.2760\n",
      "Epoch 7/30\n",
      "62/62 [==============================] - 12s 187ms/step - loss: 1.2224 - val_loss: 1.1382\n",
      "Epoch 8/30\n",
      "62/62 [==============================] - 12s 186ms/step - loss: 1.1190 - val_loss: 1.1268\n",
      "Epoch 9/30\n",
      "62/62 [==============================] - 12s 186ms/step - loss: 1.0647 - val_loss: 1.0720\n",
      "Epoch 10/30\n",
      "62/62 [==============================] - 12s 188ms/step - loss: 1.0328 - val_loss: 1.0238\n",
      "Epoch 11/30\n",
      "62/62 [==============================] - 12s 186ms/step - loss: 0.9997 - val_loss: 0.9902\n",
      "Epoch 12/30\n",
      "62/62 [==============================] - 12s 186ms/step - loss: 0.9605 - val_loss: 0.9671\n",
      "Epoch 13/30\n",
      "62/62 [==============================] - 12s 186ms/step - loss: 0.9320 - val_loss: 0.9589\n",
      "Epoch 14/30\n",
      "62/62 [==============================] - 12s 186ms/step - loss: 0.9141 - val_loss: 0.9215\n",
      "Epoch 15/30\n",
      "62/62 [==============================] - 12s 186ms/step - loss: 0.8793 - val_loss: 0.9090\n",
      "Epoch 16/30\n",
      "62/62 [==============================] - 12s 186ms/step - loss: 0.8583 - val_loss: 0.8909\n",
      "Epoch 17/30\n",
      "62/62 [==============================] - 12s 186ms/step - loss: 0.8350 - val_loss: 0.8558\n",
      "Epoch 18/30\n",
      "62/62 [==============================] - 12s 187ms/step - loss: 0.8120 - val_loss: 0.8363\n",
      "Epoch 19/30\n",
      "62/62 [==============================] - 12s 186ms/step - loss: 0.7904 - val_loss: 0.8213\n",
      "Epoch 20/30\n",
      "62/62 [==============================] - 12s 186ms/step - loss: 0.7720 - val_loss: 0.8027\n",
      "Epoch 21/30\n",
      "62/62 [==============================] - 12s 187ms/step - loss: 0.7515 - val_loss: 0.7722\n",
      "Epoch 22/30\n",
      "62/62 [==============================] - 12s 186ms/step - loss: 0.7384 - val_loss: 0.7557\n",
      "Epoch 23/30\n",
      "62/62 [==============================] - 12s 186ms/step - loss: 0.7108 - val_loss: 0.7618\n",
      "Epoch 24/30\n",
      "62/62 [==============================] - 12s 186ms/step - loss: 0.6984 - val_loss: 0.7396\n",
      "Epoch 25/30\n",
      "62/62 [==============================] - 12s 186ms/step - loss: 0.6816 - val_loss: 0.7125\n",
      "Epoch 26/30\n",
      "62/62 [==============================] - 12s 187ms/step - loss: 0.6576 - val_loss: 0.6957\n",
      "Epoch 27/30\n",
      "62/62 [==============================] - 12s 188ms/step - loss: 0.6418 - val_loss: 0.6835\n",
      "Epoch 28/30\n",
      "62/62 [==============================] - 12s 187ms/step - loss: 0.6250 - val_loss: 0.6650\n",
      "Epoch 29/30\n",
      "62/62 [==============================] - 12s 186ms/step - loss: 0.6123 - val_loss: 0.6429\n",
      "Epoch 30/30\n",
      "62/62 [==============================] - 12s 186ms/step - loss: 0.6012 - val_loss: 0.6420\n"
     ]
    },
    {
     "data": {
      "text/plain": [
       "<tensorflow.python.keras.callbacks.History at 0x7f1eadda6730>"
      ]
     },
     "execution_count": 14,
     "metadata": {},
     "output_type": "execute_result"
    }
   ],
   "source": [
    "model.fit(frames, commands, batch_size=64, epochs=30, validation_split=0.2)"
   ]
  },
  {
   "cell_type": "code",
   "execution_count": 15,
   "metadata": {},
   "outputs": [
    {
     "name": "stdout",
     "output_type": "stream",
     "text": [
      "sama\n"
     ]
    }
   ],
   "source": [
    "mem_frame = frames[10].reshape(1,60,180,3)\n",
    "mem_frame.shape\n",
    "mem_frame\n",
    "\n",
    "new_mem_frame = mem_frame\n",
    "\n",
    "if(new_mem_frame.all() == mem_frame.all()):\n",
    "    print(\"sama\")"
   ]
  },
  {
   "cell_type": "code",
   "execution_count": 16,
   "metadata": {},
   "outputs": [
    {
     "data": {
      "text/plain": [
       "array([[0.05422263, 0.33272558]], dtype=float32)"
      ]
     },
     "execution_count": 16,
     "metadata": {},
     "output_type": "execute_result"
    }
   ],
   "source": [
    "model.predict(mem_frame)"
   ]
  },
  {
   "cell_type": "code",
   "execution_count": 17,
   "metadata": {},
   "outputs": [
    {
     "name": "stdout",
     "output_type": "stream",
     "text": [
      "20210115_213425\n"
     ]
    }
   ],
   "source": [
    "from datetime import datetime\n",
    "\n",
    "# Get current timestamp | source: https://www.programiz.com/python-programming/datetime/current-datetime\n",
    "now = datetime.now().strftime(\"%Y%m%d_%H%M%S\")\n",
    "print(now)\n",
    "\n",
    "#plot_model(model, to_file=model_path + model_file_prefix + model_file_suffix.format(model_number, 'png'), show_shapes=True)\n",
    "model.save('../src/model_team_3_' + now + '.h5')"
   ]
  },
  {
   "cell_type": "code",
   "execution_count": null,
   "metadata": {},
   "outputs": [],
   "source": []
  }
 ],
 "metadata": {
  "kernelspec": {
   "display_name": "Python 3",
   "language": "python",
   "name": "python3"
  },
  "language_info": {
   "codemirror_mode": {
    "name": "ipython",
    "version": 3
   },
   "file_extension": ".py",
   "mimetype": "text/x-python",
   "name": "python",
   "nbconvert_exporter": "python",
   "pygments_lexer": "ipython3",
   "version": "3.7.9"
  },
  "pycharm": {
   "stem_cell": {
    "cell_type": "raw",
    "metadata": {
     "collapsed": false
    },
    "source": []
   }
  }
 },
 "nbformat": 4,
 "nbformat_minor": 2
}
