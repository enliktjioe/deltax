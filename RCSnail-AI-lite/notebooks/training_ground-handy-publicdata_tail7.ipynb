{
 "cells": [
  {
   "cell_type": "code",
   "execution_count": 1,
   "metadata": {},
   "outputs": [],
   "source": [
    "from IPython.display import display, HTML\n",
    "\n",
    "display(HTML(data=\"\"\"\n",
    "<style>\n",
    "    div#notebook-container    { width: 75%; }\n",
    "</style>\n",
    "\"\"\"))"
   ]
  },
  {
   "cell_type": "code",
   "execution_count": 2,
   "metadata": {},
   "outputs": [],
   "source": [
    "!dir"
   ]
  },
  {
   "cell_type": "code",
   "execution_count": 3,
   "metadata": {},
   "outputs": [
    {
     "name": "stdout",
     "output_type": "stream",
     "text": [
      "3.8.3\n"
     ]
    }
   ],
   "source": [
    "from platform import python_version\n",
    "\n",
    "print(python_version())"
   ]
  },
  {
   "cell_type": "code",
   "execution_count": 4,
   "metadata": {},
   "outputs": [],
   "source": [
    "%matplotlib inline\n",
    "import os\n",
    "import sys\n",
    "import gc\n",
    "import time\n",
    "from tqdm.notebook import tqdm\n",
    "\n",
    "import numpy as np\n",
    "import matplotlib.pyplot as plt\n",
    "from sklearn.model_selection import train_test_split\n",
    "from tensorflow.keras.utils import plot_model\n",
    "\n",
    "module_path_list = [os.path.abspath(os.path.join('../')), \n",
    "                    os.path.abspath(os.path.join('../../RCSnail-Commons'))]\n",
    "\n",
    "for module_path in module_path_list:\n",
    "    if module_path not in sys.path:\n",
    "        sys.path.append(module_path)\n",
    "\n",
    "from commons.configuration_manager import ConfigurationManager\n",
    "#from src.utilities.transformer import Transformer\n",
    "from src.learning.training.generator import Generator, GenFiles\n",
    "#from src.learning.models import create_standalone_nvidia_cnn, create_standalone_resnet\n",
    "                                "
   ]
  },
  {
   "cell_type": "code",
   "execution_count": 5,
   "metadata": {},
   "outputs": [],
   "source": [
    "def plot_stuff(title, plot_elem, figsize=(18, 10)):\n",
    "    fig=plt.figure(figsize=figsize)\n",
    "    plt.title(title)\n",
    "    plt.ylabel('Loss')\n",
    "    plt.xlabel('Epoch')\n",
    "    #x = np.arange(0, len(plot_elems[0]['data']), 1)\n",
    "    \n",
    "    #for plot_elem in plot_elems:\n",
    "    #    plt.errorbar(x, plot_elem['data'], yerr=plot_elem['error'], label=plot_elem['label'], alpha=plot_elem['alpha'], fmt='-o', capsize=5)\n",
    "    \n",
    "    plt.plot(list(range(1,len(plot_elem['data'])+1)), plot_elem['data'])\n",
    "    plt.grid(axis='both')\n",
    "    #plt.legend(loc='best', prop={'size': 15})\n",
    "    plt.show()\n",
    "    plt.savefig('./' + title + '.png')"
   ]
  },
  {
   "cell_type": "code",
   "execution_count": 6,
   "metadata": {},
   "outputs": [],
   "source": [
    "def create_standalone_nvidia_cnn(activation='linear', input_shape=(60, 180, 3), output_shape=1):\n",
    "    \"\"\"\n",
    "    Activation: linear, softmax.\n",
    "    Architecture is from nvidia paper mentioned in https://github.com/tanelp/self-driving-convnet/blob/master/train.py\n",
    "    \"\"\"\n",
    "    from tensorflow.keras.layers import Convolution2D\n",
    "    from tensorflow.keras.regularizers import l2\n",
    "    from tensorflow.keras.layers import Dense\n",
    "    from tensorflow.keras.layers import Flatten\n",
    "    from tensorflow.keras.layers import Input\n",
    "    from tensorflow.keras.models import Model\n",
    "    from tensorflow.keras.optimizers import Adam\n",
    "    from tensorflow.keras.losses import mean_squared_error, mean_absolute_error\n",
    "\n",
    "    inputs = Input(shape=input_shape)\n",
    "    conv_1 = Convolution2D(24, kernel_size=(5, 5), kernel_regularizer=l2(0.0005), strides=(2, 2), padding=\"same\", activation=\"elu\")(inputs)\n",
    "    conv_2 = Convolution2D(36, kernel_size=(5, 5), kernel_regularizer=l2(0.0005), strides=(2, 2), padding=\"same\", activation=\"elu\")(conv_1)\n",
    "    conv_3 = Convolution2D(48, kernel_size=(5, 5), kernel_regularizer=l2(0.0005), strides=(2, 2), padding=\"same\", activation=\"elu\")(conv_2)\n",
    "    conv_4 = Convolution2D(64, kernel_size=(3, 3), kernel_regularizer=l2(0.0005), padding=\"same\", activation=\"elu\")(conv_3)\n",
    "    conv_5 = Convolution2D(64, kernel_size=(3, 3), kernel_regularizer=l2(0.0005), padding=\"same\", activation=\"elu\")(conv_4)\n",
    "    flatten = Flatten()(conv_5)\n",
    "    dense_1 = Dense(1164, kernel_regularizer=l2(0.0005), activation=\"elu\")(flatten)\n",
    "    dense_2 = Dense(100, kernel_regularizer=l2(0.0005), activation=\"elu\")(dense_1)\n",
    "    dense_3 = Dense(50, kernel_regularizer=l2(0.0005), activation=\"elu\")(dense_2)\n",
    "    dense_4 = Dense(10, kernel_regularizer=l2(0.0005), activation=\"elu\")(dense_3)\n",
    "    out_dense = Dense(output_shape, activation=activation)(dense_4)\n",
    "\n",
    "    model = Model(inputs=inputs, outputs=out_dense)\n",
    "    optimizer = Adam(lr=3e-4)\n",
    "    model.compile(loss=mean_absolute_error, optimizer=optimizer)\n",
    "\n",
    "    return model"
   ]
  },
  {
   "cell_type": "markdown",
   "metadata": {},
   "source": [
    "# Handy Testing"
   ]
  },
  {
   "cell_type": "code",
   "execution_count": 7,
   "metadata": {},
   "outputs": [],
   "source": [
    "import json\n",
    "import numpy as np\n",
    "import os\n",
    "import matplotlib.pyplot as plt\n",
    "import skimage.io as io\n",
    "import skimage\n",
    "from skimage.transform import rescale, resize, downscale_local_mean\n",
    "\n",
    "import glob\n",
    "import random\n",
    "from PIL import Image\n",
    "import PIL\n",
    " "
   ]
  },
  {
   "cell_type": "code",
   "execution_count": 8,
   "metadata": {},
   "outputs": [
    {
     "name": "stdout",
     "output_type": "stream",
     "text": [
      "../cleaned_all_publicdata_tail7/commands_0004183.npy\n",
      "8478\n",
      "8478\n"
     ]
    }
   ],
   "source": [
    "import glob\n",
    "\n",
    "# val_data_loc=\"preprocessed/cleaned_all\"\n",
    "# filenames = glob.glob(\"preprocessed/cleaned_all/*\")\n",
    "# val_data_loc=\"../cleaned_all/\"\n",
    "# filenames = glob.glob(\"../cleaned_all/*\")\n",
    "val_data_loc=\"../cleaned_all_publicdata_tail7/\"\n",
    "filenames = glob.glob(\"../cleaned_all_publicdata_tail7/*\")\n",
    "print(filenames[1])\n",
    "print(int(len(filenames)/2))\n",
    "nr_of_datapoints = int(len(filenames)/2) #label and image files\n",
    "print(nr_of_datapoints)\n",
    "\n",
    "\n",
    "MAEs=[]\n",
    "preds=[]\n",
    "labels=[]\n"
   ]
  },
  {
   "cell_type": "code",
   "execution_count": 9,
   "metadata": {},
   "outputs": [],
   "source": [
    "frames = []\n",
    "commands = []\n",
    "\n",
    "# for batch in range(53482,53482+nr_of_datapoints): # using the end of file. 32 batches of size batch of 32\n",
    "for batch in range(1,nr_of_datapoints): # using the end of file. 32 batches of size batch of 32\n",
    "    frames.append(np.load(val_data_loc + \"frame_\"+str(batch).zfill(7)+\".npy\"))\n",
    "    commands.append(np.load(val_data_loc + \"commands_\"+str(batch).zfill(7)+\".npy\"))"
   ]
  },
  {
   "cell_type": "code",
   "execution_count": 10,
   "metadata": {},
   "outputs": [
    {
     "data": {
      "text/plain": [
       "(8477, 60, 180, 3)"
      ]
     },
     "execution_count": 10,
     "metadata": {},
     "output_type": "execute_result"
    }
   ],
   "source": [
    "#frames = frames.reshape(1,60,180,3)\n",
    "frames = np.array(frames)\n",
    "frames.shape"
   ]
  },
  {
   "cell_type": "code",
   "execution_count": 11,
   "metadata": {},
   "outputs": [
    {
     "data": {
      "text/plain": [
       "(8477, 2)"
      ]
     },
     "execution_count": 11,
     "metadata": {},
     "output_type": "execute_result"
    }
   ],
   "source": [
    "#commands = commands.reshape(1, 2)\n",
    "commands = np.array(commands)\n",
    "commands.shape"
   ]
  },
  {
   "cell_type": "code",
   "execution_count": 12,
   "metadata": {},
   "outputs": [
    {
     "name": "stdout",
     "output_type": "stream",
     "text": [
      "Model: \"functional_1\"\n",
      "_________________________________________________________________\n",
      "Layer (type)                 Output Shape              Param #   \n",
      "=================================================================\n",
      "input_1 (InputLayer)         [(None, 60, 180, 3)]      0         \n",
      "_________________________________________________________________\n",
      "conv2d (Conv2D)              (None, 30, 90, 24)        1824      \n",
      "_________________________________________________________________\n",
      "conv2d_1 (Conv2D)            (None, 15, 45, 36)        21636     \n",
      "_________________________________________________________________\n",
      "conv2d_2 (Conv2D)            (None, 8, 23, 48)         43248     \n",
      "_________________________________________________________________\n",
      "conv2d_3 (Conv2D)            (None, 8, 23, 64)         27712     \n",
      "_________________________________________________________________\n",
      "conv2d_4 (Conv2D)            (None, 8, 23, 64)         36928     \n",
      "_________________________________________________________________\n",
      "flatten (Flatten)            (None, 11776)             0         \n",
      "_________________________________________________________________\n",
      "dense (Dense)                (None, 1164)              13708428  \n",
      "_________________________________________________________________\n",
      "dense_1 (Dense)              (None, 100)               116500    \n",
      "_________________________________________________________________\n",
      "dense_2 (Dense)              (None, 50)                5050      \n",
      "_________________________________________________________________\n",
      "dense_3 (Dense)              (None, 10)                510       \n",
      "_________________________________________________________________\n",
      "dense_4 (Dense)              (None, 2)                 22        \n",
      "=================================================================\n",
      "Total params: 13,961,858\n",
      "Trainable params: 13,961,858\n",
      "Non-trainable params: 0\n",
      "_________________________________________________________________\n"
     ]
    }
   ],
   "source": [
    "model = create_standalone_nvidia_cnn(activation='linear', input_shape=(60, 180, 3), output_shape=2)\n",
    "model.summary()"
   ]
  },
  {
   "cell_type": "code",
   "execution_count": 13,
   "metadata": {
    "scrolled": true
   },
   "outputs": [
    {
     "name": "stdout",
     "output_type": "stream",
     "text": [
      "Epoch 1/12\n",
      "106/106 [==============================] - 38s 360ms/step - loss: 1.9777 - val_loss: 1.4345\n",
      "Epoch 2/12\n",
      "106/106 [==============================] - 35s 334ms/step - loss: 1.3232 - val_loss: 1.3635\n",
      "Epoch 3/12\n",
      "106/106 [==============================] - 38s 356ms/step - loss: 1.2249 - val_loss: 1.2615\n",
      "Epoch 4/12\n",
      "106/106 [==============================] - 38s 363ms/step - loss: 1.1532 - val_loss: 1.2223\n",
      "Epoch 5/12\n",
      "106/106 [==============================] - 39s 363ms/step - loss: 1.0864 - val_loss: 1.1619\n",
      "Epoch 6/12\n",
      "106/106 [==============================] - 38s 362ms/step - loss: 1.0294 - val_loss: 1.0834\n",
      "Epoch 7/12\n",
      "106/106 [==============================] - 39s 364ms/step - loss: 0.9766 - val_loss: 1.0410\n",
      "Epoch 8/12\n",
      "106/106 [==============================] - 39s 366ms/step - loss: 0.9276 - val_loss: 1.0050\n",
      "Epoch 9/12\n",
      "106/106 [==============================] - 39s 367ms/step - loss: 0.8802 - val_loss: 0.9700\n",
      "Epoch 10/12\n",
      "106/106 [==============================] - 39s 366ms/step - loss: 0.8440 - val_loss: 0.9423\n",
      "Epoch 11/12\n",
      "106/106 [==============================] - 39s 368ms/step - loss: 0.7994 - val_loss: 0.9082\n",
      "Epoch 12/12\n",
      "106/106 [==============================] - 38s 362ms/step - loss: 0.7663 - val_loss: 0.8728\n",
      "[]\n",
      "Loss per epoch: [1.9777116775512695, 1.3231595754623413, 1.224927306175232, 1.1532460451126099, 1.086377501487732, 1.0293856859207153, 0.9766268730163574, 0.9276108741760254, 0.8802418112754822, 0.8440056443214417, 0.7993627786636353, 0.7662699818611145]\n",
      "Validation loss per epoch: [1.434455156326294, 1.3634881973266602, 1.261548638343811, 1.222334861755371, 1.1619377136230469, 1.0834463834762573, 1.0409629344940186, 1.0049793720245361, 0.970012366771698, 0.9423291683197021, 0.908229410648346, 0.8727620840072632]\n"
     ]
    },
    {
     "data": {
      "text/plain": [
       "1530"
      ]
     },
     "execution_count": 13,
     "metadata": {},
     "output_type": "execute_result"
    }
   ],
   "source": [
    "hist = model.fit(frames, commands, batch_size=64, epochs=12, validation_split=0.2)\n",
    "\n",
    "losses = []\n",
    "val_losses = []\n",
    "current_loss = hist.history['loss']\n",
    "current_val_loss = hist.history['val_loss'] \n",
    "\n",
    "losses.append(current_loss)\n",
    "print(val_losses)\n",
    "val_losses.append(current_val_loss)\n",
    "\n",
    "tqdm.write(\"Loss per epoch: {}\".format(current_loss))\n",
    "tqdm.write(\"Validation loss per epoch: {}\".format(current_val_loss))\n",
    "\n",
    "gc.collect()"
   ]
  },
  {
   "cell_type": "code",
   "execution_count": 14,
   "metadata": {},
   "outputs": [
    {
     "name": "stdout",
     "output_type": "stream",
     "text": [
      "[[1.434455156326294, 1.3634881973266602, 1.261548638343811, 1.222334861755371, 1.1619377136230469, 1.0834463834762573, 1.0409629344940186, 1.0049793720245361, 0.970012366771698, 0.9423291683197021, 0.908229410648346, 0.8727620840072632]]\n",
      "[1.434455156326294, 1.3634881973266602, 1.261548638343811, 1.222334861755371, 1.1619377136230469, 1.0834463834762573, 1.0409629344940186, 1.0049793720245361, 0.970012366771698, 0.9423291683197021, 0.908229410648346, 0.8727620840072632]\n"
     ]
    },
    {
     "data": {
      "image/png": "[encoded data removed]",
      "text/plain": [
       "<Figure size 720x432 with 1 Axes>"
      ]
     },
     "metadata": {
      "needs_background": "light"
     },
     "output_type": "display_data"
    },
    {
     "data": {
      "text/plain": [
       "<Figure size 432x288 with 0 Axes>"
      ]
     },
     "metadata": {},
     "output_type": "display_data"
    }
   ],
   "source": [
    "print(val_losses)\n",
    "print(hist.history['val_loss'] )\n",
    "loss_data = []\n",
    "val_loss_data = []\n",
    "\n",
    "\n",
    "val_loss_data = {'data': hist.history['val_loss'], 'label': 'Validation loss', 'alpha': 1.0}\n",
    "plot_stuff('Nivida cnn standalone validation loss', val_loss_data, figsize=(10, 6))"
   ]
  },
  {
   "cell_type": "code",
   "execution_count": 15,
   "metadata": {},
   "outputs": [
    {
     "data": {
      "image/png": "[encoded data removed]",
      "text/plain": [
       "<Figure size 720x432 with 1 Axes>"
      ]
     },
     "metadata": {
      "needs_background": "light"
     },
     "output_type": "display_data"
    },
    {
     "data": {
      "text/plain": [
       "<Figure size 432x288 with 0 Axes>"
      ]
     },
     "metadata": {},
     "output_type": "display_data"
    }
   ],
   "source": [
    "loss_data = {'data': losses[0], 'label': 'Loss', 'alpha': 1.0}\n",
    "plot_stuff('Training', loss_data, figsize=(10, 6))"
   ]
  },
  {
   "cell_type": "code",
   "execution_count": 16,
   "metadata": {},
   "outputs": [
    {
     "name": "stdout",
     "output_type": "stream",
     "text": [
      "sama\n"
     ]
    }
   ],
   "source": [
    "mem_frame = frames[10].reshape(1,60,180,3)\n",
    "mem_frame.shape\n",
    "mem_frame\n",
    "\n",
    "new_mem_frame = mem_frame\n",
    "\n",
    "if(new_mem_frame.all() == mem_frame.all()):\n",
    "    print(\"sama\")"
   ]
  },
  {
   "cell_type": "code",
   "execution_count": 17,
   "metadata": {},
   "outputs": [
    {
     "data": {
      "text/plain": [
       "array([[-0.8507656,  0.7672441]], dtype=float32)"
      ]
     },
     "execution_count": 17,
     "metadata": {},
     "output_type": "execute_result"
    }
   ],
   "source": [
    "model.predict(mem_frame)"
   ]
  },
  {
   "cell_type": "code",
   "execution_count": 18,
   "metadata": {},
   "outputs": [
    {
     "name": "stdout",
     "output_type": "stream",
     "text": [
      "20210123_014012\n"
     ]
    }
   ],
   "source": [
    "from datetime import datetime\n",
    "\n",
    "# Get current timestamp | source: https://www.programiz.com/python-programming/datetime/current-datetime\n",
    "now = datetime.now().strftime(\"%Y%m%d_%H%M%S\")\n",
    "print(now)\n",
    "\n",
    "#plot_model(model, to_file=model_path + model_file_prefix + model_file_suffix.format(model_number, 'png'), show_shapes=True)\n",
    "model.save('../src/model_team_3_' + now + '_12epochs_publicdata_tail7.h5')"
   ]
  },
  {
   "cell_type": "code",
   "execution_count": 22,
   "metadata": {},
   "outputs": [
    {
     "name": "stdout",
     "output_type": "stream",
     "text": [
      "16956\n",
      "1/1 [==============================] - 0s 644us/step - loss: 0.6599\n",
      "1/1 [==============================] - 0s 614us/step - loss: 0.7405\n",
      "1/1 [==============================] - 0s 702us/step - loss: 0.7048\n",
      "1/1 [==============================] - 0s 867us/step - loss: 0.7096\n",
      "1/1 [==============================] - 0s 637us/step - loss: 0.6898\n",
      "1/1 [==============================] - 0s 633us/step - loss: 0.7417\n",
      "1/1 [==============================] - 0s 632us/step - loss: 0.7350\n",
      "1/1 [==============================] - 0s 626us/step - loss: 0.6946\n",
      "1/1 [==============================] - 0s 644us/step - loss: 0.6757\n",
      "1/1 [==============================] - 0s 659us/step - loss: 0.8272\n",
      "1/1 [==============================] - 0s 633us/step - loss: 0.6856\n",
      "1/1 [==============================] - 0s 656us/step - loss: 0.6428\n",
      "1/1 [==============================] - 0s 649us/step - loss: 0.6440\n",
      "1/1 [==============================] - 0s 647us/step - loss: 0.7179\n",
      "1/1 [==============================] - 0s 639us/step - loss: 0.7268\n",
      "1/1 [==============================] - 0s 659us/step - loss: 0.6715\n",
      "1/1 [==============================] - 0s 654us/step - loss: 0.6912\n",
      "1/1 [==============================] - 0s 629us/step - loss: 0.7054\n",
      "1/1 [==============================] - 0s 856us/step - loss: 0.7380\n",
      "1/1 [==============================] - 0s 622us/step - loss: 0.7596\n",
      "1/1 [==============================] - 0s 607us/step - loss: 0.8289\n",
      "1/1 [==============================] - 0s 678us/step - loss: 0.7298\n",
      "1/1 [==============================] - 0s 626us/step - loss: 0.6697\n",
      "1/1 [==============================] - 0s 842us/step - loss: 0.6758\n",
      "1/1 [==============================] - 0s 742us/step - loss: 0.6853\n",
      "1/1 [==============================] - 0s 635us/step - loss: 0.6466\n",
      "1/1 [==============================] - 0s 629us/step - loss: 0.6304\n",
      "1/1 [==============================] - 0s 635us/step - loss: 0.6379\n",
      "1/1 [==============================] - 0s 921us/step - loss: 0.7511\n",
      "1/1 [==============================] - 0s 642us/step - loss: 0.7029\n",
      "1/1 [==============================] - 0s 644us/step - loss: 0.8159\n",
      "1/1 [==============================] - 0s 872us/step - loss: 0.6746\n",
      "0.7065809201449156\n"
     ]
    }
   ],
   "source": [
    "#todo load test set into memeory, evaluate\n",
    "import keras\n",
    "model = keras.models.load_model('../src/model_team_3_' + now + '_12epochs_publicdata_tail7.h5')\n",
    "import glob\n",
    "\n",
    "val_data_loc=\"../cleaned_all_publicdata_tail7\"\n",
    "filenames = glob.glob(\"../cleaned_all_publicdata_tail7/*\")\n",
    "print(len(filenames))\n",
    "nr_of_datapoints = int(len(filenames)/2) #label and image files\n",
    "\n",
    "\n",
    "MAEs=[]\n",
    "preds=[]\n",
    "labels=[]\n",
    "\n",
    "# for batch in range(53482//32,(53482+nr_of_datapoints)//32):\n",
    "for batch in range(nr_of_datapoints//32-32,nr_of_datapoints//32):\n",
    "# for batch in range(nr_of_datapoints//32-32,nr_of_datapoints//32): # using the end of file. 32 batches of size batch of 32\n",
    "    frames=np.zeros((32,60,180,3))\n",
    "    commands = np.zeros((32,2))\n",
    "    for i in range(32):\n",
    "#         frames.append(np.load(val_data_loc + \"frame_\"+str(batch).zfill(7)+\".npy\"))\n",
    "#         commands.append(np.load(val_data_loc + \"commands_\"+str(batch).zfill(7)+\".npy\"))\n",
    "#         frames[i,:] = np.load(\"../cleaned_all/frame_\"+str(batch*32+i).zfill(7)+\".npy\")\n",
    "#         commands[i] = np.load(\"../cleaned_all/commands_\"+str(batch*32+i).zfill(7)+\".npy\")\n",
    "#         frames[i,:] = np.load(\"../cleaned_all/frame_\"+str(batch).zfill(7)+\".npy\")\n",
    "#         commands[i] = np.load(\"../cleaned_all/commands_\"+str(batch).zfill(7)+\".npy\")\n",
    "        frames[i,:] = np.load(\"../cleaned_all_publicdata_tail7/frame_\"+str(batch).zfill(7)+\".npy\")\n",
    "        commands[i] = np.load(\"../cleaned_all_publicdata_tail7/commands_\"+str(batch).zfill(7)+\".npy\")\n",
    "    MAEs.append(model.evaluate(frames,commands, batch_size=32))\n",
    "    pred = model.predict(frames)\n",
    "    preds.append(pred)\n",
    "    labels.append(commands)\n",
    "    \n",
    "print(np.mean(MAEs))"
   ]
  },
  {
   "cell_type": "code",
   "execution_count": 20,
   "metadata": {},
   "outputs": [
    {
     "name": "stdout",
     "output_type": "stream",
     "text": [
      "1.0211165752261877\n",
      "(32, 32) (32, 32)\n"
     ]
    },
    {
     "data": {
      "image/png": "[encoded data removed]",
      "text/plain": [
       "<Figure size 2304x576 with 1 Axes>"
      ]
     },
     "metadata": {
      "needs_background": "light"
     },
     "output_type": "display_data"
    },
    {
     "data": {
      "image/png": "[encoded data removed]",
      "text/plain": [
       "<Figure size 2304x576 with 1 Axes>"
      ]
     },
     "metadata": {
      "needs_background": "light"
     },
     "output_type": "display_data"
    },
    {
     "data": {
      "text/plain": [
       "<matplotlib.collections.PathCollection at 0x7f527751c3a0>"
      ]
     },
     "execution_count": 20,
     "metadata": {},
     "output_type": "execute_result"
    },
    {
     "data": {
      "image/png": "[encoded data removed]",
      "text/plain": [
       "<Figure size 432x288 with 1 Axes>"
      ]
     },
     "metadata": {
      "needs_background": "light"
     },
     "output_type": "display_data"
    }
   ],
   "source": [
    "print(np.mean(MAEs))\n",
    "p_steer=np.array(preds)[:,:,0]\n",
    "l_steer=np.array(labels)[:,:,0]\n",
    "p_throttle=np.array(preds)[:,:,1]\n",
    "l_throttle=np.array(labels)[:,:,1]\n",
    "\n",
    "print(p_steer.shape,l_steer.shape)\n",
    "p_steer=p_steer.flatten()\n",
    "l_steer=l_steer.flatten()\n",
    "p_throttle=p_throttle.flatten()\n",
    "l_throttle=l_throttle.flatten()\n",
    "\n",
    "\n",
    "plt.figure(figsize=(32,8))\n",
    "plt.plot(range(1000),l_steer[:1000],label=\"human steering\")\n",
    "plt.plot(range(1000),p_steer[:1000],label=\"predicted\")\n",
    "plt.legend()\n",
    "plt.show()\n",
    "\n",
    "\n",
    "plt.figure(figsize=(32,8))\n",
    "plt.plot(range(1000),l_throttle[:1000],label=\"human throttle\")\n",
    "plt.plot(range(1000),p_throttle[:1000],label=\"predicted\")\n",
    "plt.legend()\n",
    "plt.show()\n",
    "\n",
    "\n",
    "\n",
    "plt.scatter(l_steer,p_steer,s=0.001)"
   ]
  },
  {
   "cell_type": "code",
   "execution_count": null,
   "metadata": {},
   "outputs": [],
   "source": []
  }
 ],
 "metadata": {
  "kernelspec": {
   "display_name": "Python 3",
   "language": "python",
   "name": "python3"
  },
  "language_info": {
   "codemirror_mode": {
    "name": "ipython",
    "version": 3
   },
   "file_extension": ".py",
   "mimetype": "text/x-python",
   "name": "python",
   "nbconvert_exporter": "python",
   "pygments_lexer": "ipython3",
   "version": "3.8.3"
  },
  "pycharm": {
   "stem_cell": {
    "cell_type": "raw",
    "metadata": {
     "collapsed": false
    },
    "source": []
   }
  }
 },
 "nbformat": 4,
 "nbformat_minor": 2
}
