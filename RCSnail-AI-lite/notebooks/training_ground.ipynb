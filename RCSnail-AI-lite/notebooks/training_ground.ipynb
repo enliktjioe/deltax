{
 "cells": [
  {
   "cell_type": "code",
   "execution_count": 1,
   "metadata": {},
   "outputs": [
    {
     "data": {
      "text/html": [
       "\n",
       "<style>\n",
       "    div#notebook-container    { width: 75%; }\n",
       "</style>\n"
      ],
      "text/plain": [
       "<IPython.core.display.HTML object>"
      ]
     },
     "metadata": {},
     "output_type": "display_data"
    }
   ],
   "source": [
    "from IPython.display import display, HTML\n",
    "\n",
    "display(HTML(data=\"\"\"\n",
    "<style>\n",
    "    div#notebook-container    { width: 75%; }\n",
    "</style>\n",
    "\"\"\"))"
   ]
  },
  {
   "cell_type": "code",
   "execution_count": null,
   "metadata": {},
   "outputs": [],
   "source": []
  },
  {
   "cell_type": "code",
   "execution_count": 2,
   "metadata": {},
   "outputs": [],
   "source": [
    "%matplotlib inline\n",
    "import os\n",
    "import sys\n",
    "import gc\n",
    "import time\n",
    "from tqdm.notebook import tqdm\n",
    "\n",
    "import numpy as np\n",
    "import matplotlib.pyplot as plt\n",
    "from sklearn.model_selection import train_test_split\n",
    "from tensorflow.keras.utils import plot_model\n",
    "\n",
    "module_path = os.path.abspath(os.path.join('..'))\n",
    "if module_path not in sys.path:\n",
    "    sys.path.append(module_path)\n",
    "\n",
    "from commons.configuration_manager import ConfigurationManager\n",
    "#from src.utilities.transformer import Transformer\n",
    "from src.learning.training.generator import Generator, GenFiles\n",
    "# from src.learning.models import create_standalone_nvidia_cnn, create_standalone_resnet, create_small_cnn\n",
    "from src.learning.models import create_standalone_nvidia_cnn, create_standalone_resnet\n",
    "                                "
   ]
  },
  {
   "cell_type": "code",
   "execution_count": 3,
   "metadata": {},
   "outputs": [],
   "source": [
    "def plot_stuff(title, plot_elem, figsize=(18, 10)):\n",
    "    fig=plt.figure(figsize=figsize)\n",
    "    plt.title(title)\n",
    "    plt.ylabel('Loss')\n",
    "    plt.xlabel('Epoch')\n",
    "    #x = np.arange(0, len(plot_elems[0]['data']), 1)\n",
    "    \n",
    "    #for plot_elem in plot_elems:\n",
    "    #    plt.errorbar(x, plot_elem['data'], yerr=plot_elem['error'], label=plot_elem['label'], alpha=plot_elem['alpha'], fmt='-o', capsize=5)\n",
    "    \n",
    "    plt.plot(list(range(1,len(plot_elem['data'])+1)), plot_elem['data'])\n",
    "    plt.grid(axis='both')\n",
    "    #plt.legend(loc='best', prop={'size': 15})\n",
    "    plt.show()\n",
    "    plt.savefig('./' + title + '.png')\n",
    "    \n",
    "def get_model_num(model_path, model_prefix):\n",
    "    model_files = [fn for fn in os.listdir(model_path) if fn.startswith(model_prefix) and fn.endswith('.h5') and 'dagger_' not in fn]\n",
    "    # expected format is \"model_n1_m1_9.h5\"\n",
    "    existing_nums = [int(fn.split('_')[3].split('.')[0]) for fn in model_files]\n",
    "    \n",
    "    if len(existing_nums) == 0:\n",
    "        return 1\n",
    "    else:\n",
    "        latest_num = sorted(existing_nums)[-1]\n",
    "        return int(latest_num) + 1"
   ]
  },
  {
   "cell_type": "code",
   "execution_count": 4,
   "metadata": {},
   "outputs": [],
   "source": [
    "config_manager = ConfigurationManager()\n",
    "config = config_manager.config\n",
    "\n",
    "memory = (1, 1)\n",
    "#ARDI' comment -- we just use (1,1) this refers to how many frames are used and sth else, not sure what\n",
    "\n",
    "model_path = '../'"
   ]
  },
  {
   "cell_type": "code",
   "execution_count": 14,
   "metadata": {},
   "outputs": [],
   "source": [
    "import tensorflow as tf\n",
    "def scheduler(epoch, lr):\n",
    "    if epoch>30 and epoch%10==0:\n",
    "        lr*=0.5\n",
    "    return lr\n",
    "\n",
    "\n",
    "# Model experiments\n",
    "import os\n",
    "\n",
    "epochs = 50\n",
    "batch_size = 64\n",
    "verbose = 1\n",
    "\n",
    "losses = []\n",
    "val_losses = []\n",
    "\n",
    "#in here added option to not shuffle, so last 20% of recording time is used as val set -- in future might want to reduce proportion of val set\n",
    "generator = Generator(config, memory_tuple= memory, base_path='../', batch_size=batch_size, column_mode='all', shuffle_data=False) \n",
    "\n",
    "# frame_shape, numeric_shape, diff_shape = generator.get_shapes()\n",
    "\n",
    "# tqdm.write('Target shape: {}'.format(diff_shape)) #tqdm is some package that allow to track the progress of operations\n",
    "# tqdm.write('Input shapes: {}; {}'.format(frame_shape, numeric_shape))\n",
    "\n",
    "# models = []\n",
    "\n",
    "#ARDI's comment:  Nividia is the model we want to use (resnet might be good to??)\n",
    "#models.append((create_standalone_nvidia_cnn(activation='linear', input_shape=(60, 180, 3), output_shape=2), generator.generate))\n",
    "\n",
    "#\"steer and throttle\"\n",
    "#models.append((create_small_cnn(activation='linear', input_shape=(60, 180, 3), output_shape=2), generator.generate))\n",
    "\n",
    "# generator = Generator(config, memory_tuple= memory, base_path='../', batch_size=batch_size, column_mode='gear', shuffle_data=False) \n",
    "# models.append((create_small_cnn(activation='linear', input_shape=(50, 180, 3), output_shape=2), generator.generate))\n",
    "\n",
    "# callbacks=[tf.keras.callbacks.LearningRateScheduler(scheduler)]\n",
    "\n",
    "# for model, generate_method in tqdm(models):\n",
    "#     result_desc = 'n{}_m{}'.format(*memory)\n",
    "#     tqdm.write(result_desc)\n",
    "\n",
    "#     hist = model.fit(generate_method(data='train'),\n",
    "#                      steps_per_epoch=generator.train_batch_count,\n",
    "#                      validation_data=generate_method(data='test'),\n",
    "#                      validation_steps=generator.test_batch_count,\n",
    "#                      callbacks=callbacks,\n",
    "#                      epochs=epochs, verbose=verbose)\n",
    "\n",
    "#     model_file_prefix = 'model_n{}_m{}'.format(*memory)\n",
    "#     model_file_suffix = '_{}.{}'\n",
    "\n",
    "#     model_number = get_model_num(model_path, model_file_prefix)\n",
    "#     plot_model(model, to_file=model_path + model_file_prefix + model_file_suffix.format(model_number, 'png'), show_shapes=True)\n",
    "#     model.save(model_path + model_file_prefix + model_file_suffix.format(model_number, 'h5'))\n",
    "    \n",
    "#     current_loss = hist.history['loss']\n",
    "#     current_val_loss = hist.history['val_loss'] \n",
    "    \n",
    "#     losses.append(current_loss)\n",
    "#     print(val_losses)\n",
    "#     val_losses.append(current_val_loss)\n",
    "    \n",
    "#     tqdm.write(\"Loss per epoch: {}\".format(current_loss))\n",
    "#     tqdm.write(\"Validation loss per epoch: {}\".format(current_val_loss))\n",
    "    \n",
    "#     gc.collect()\\\n",
    "\n",
    "\n",
    "# os.system(\"printf '\\a'\")\\\n"
   ]
  },
  {
   "cell_type": "code",
   "execution_count": null,
   "metadata": {},
   "outputs": [],
   "source": [
    "print(val_losses)\n",
    "print(hist.history['val_loss'] )\n",
    "loss_data = []\n",
    "val_loss_data = []\n",
    "\n",
    "\n",
    "val_loss_data = {'data': hist.history['val_loss'], 'label': 'Validation loss', 'alpha': 1.0}\n",
    "plot_stuff('Nivida cnn standalone validation loss', val_loss_data, figsize=(10, 6))\n"
   ]
  },
  {
   "cell_type": "code",
   "execution_count": null,
   "metadata": {},
   "outputs": [],
   "source": [
    "loss_data = {'data': losses[0], 'label': 'Loss', 'alpha': 1.0}\n",
    "plot_stuff('Training', loss_data, figsize=(10, 6))"
   ]
  },
  {
   "cell_type": "code",
   "execution_count": null,
   "metadata": {},
   "outputs": [],
   "source": [
    "#todo load test set into memeory, evaluate\n",
    "import keras\n",
    "model = keras.models.load_model(\"../masked_test.h5\")\n",
    "import glob\n",
    "\n",
    "val_data_loc=\"../n1_m1\"\n",
    "filenames = glob.glob(\"../n1_m1/*\")\n",
    "print(len(filenames))\n",
    "nr_of_datapoints = int(len(filenames)/2) #label and image files\n",
    "\n",
    "\n",
    "MAEs=[]\n",
    "preds=[]\n",
    "labels=[]\n",
    "\n",
    "for batch in range(nr_of_datapoints//32-32,nr_of_datapoints//32): # using the end of file. 32 batches of size batch of 32\n",
    "    frames=np.zeros((32,50,180,3))\n",
    "    commands = np.zeros((32,2))\n",
    "    for i in range(32):\n",
    "        frames[i,:] = np.load(\"../n1_m1/frame_\"+str(batch*32+i).zfill(7)+\".npy\")\n",
    "        commands[i] = np.load(\"../n1_m1/commands_\"+str(batch*32+i).zfill(7)+\".npy\")\n",
    "    MAEs.append(model.evaluate(frames,commands, batch_size=32))\n",
    "    pred = model.predict(frames)\n",
    "    preds.append(pred)\n",
    "    labels.append(commands)\n",
    "    \n",
    "print(np.mean(MAEs))\n",
    "#TODO MAE for steer and throttle separately, mased on preds and commands"
   ]
  },
  {
   "cell_type": "code",
   "execution_count": null,
   "metadata": {},
   "outputs": [],
   "source": [
    "print(np.mean(MAEs))\n",
    "p_steer=np.array(preds)[:,:,0]\n",
    "l_steer=np.array(labels)[:,:,0]\n",
    "p_throttle=np.array(preds)[:,:,1]\n",
    "l_throttle=np.array(labels)[:,:,1]\n",
    "\n",
    "print(p_steer.shape,l_steer.shape)\n",
    "p_steer=p_steer.flatten()\n",
    "l_steer=l_steer.flatten()\n",
    "p_throttle=p_throttle.flatten()\n",
    "l_throttle=l_throttle.flatten()\n",
    "\n",
    "\n",
    "plt.figure(figsize=(32,8))\n",
    "plt.plot(range(1000),l_steer[:1000],label=\"human steering\")\n",
    "plt.plot(range(1000),p_steer[:1000],label=\"predicted\")\n",
    "plt.legend()\n",
    "plt.show()\n",
    "\n",
    "\n",
    "plt.figure(figsize=(32,8))\n",
    "plt.plot(range(1000),l_throttle[:1000],label=\"human throttle\")\n",
    "plt.plot(range(1000),p_throttle[:1000],label=\"predicted\")\n",
    "plt.legend()\n",
    "plt.show()\n",
    "\n",
    "\n",
    "\n",
    "plt.scatter(l_steer,p_steer,s=0.001)"
   ]
  },
  {
   "cell_type": "code",
   "execution_count": null,
   "metadata": {},
   "outputs": [],
   "source": []
  }
 ],
 "metadata": {
  "kernelspec": {
   "display_name": "Python 3",
   "language": "python",
   "name": "python3"
  },
  "language_info": {
   "codemirror_mode": {
    "name": "ipython",
    "version": 3
   },
   "file_extension": ".py",
   "mimetype": "text/x-python",
   "name": "python",
   "nbconvert_exporter": "python",
   "pygments_lexer": "ipython3",
   "version": "3.7.9"
  },
  "pycharm": {
   "stem_cell": {
    "cell_type": "raw",
    "metadata": {
     "collapsed": false
    },
    "source": []
   }
  }
 },
 "nbformat": 4,
 "nbformat_minor": 4
}
